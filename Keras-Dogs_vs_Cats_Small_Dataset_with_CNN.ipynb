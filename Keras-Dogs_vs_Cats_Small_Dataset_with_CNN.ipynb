{
 "cells": [
  {
   "cell_type": "markdown",
   "id": "4ce29ed4",
   "metadata": {},
   "source": [
    "# CNN Kullanılarak Kedi - Köpek Sınıflandırması\n",
    "----------------------------------------\n",
    "# Dogs vs. Cats (Small) Dataset"
   ]
  },
  {
   "cell_type": "markdown",
   "id": "48914a51",
   "metadata": {},
   "source": [
    "# Dataset'i Parçalama"
   ]
  },
  {
   "cell_type": "code",
   "execution_count": 1,
   "id": "7fbd33b6",
   "metadata": {},
   "outputs": [],
   "source": [
    "# Dosya okuma ve yazma işlemleri için gerekli kütüphanelerin import edilmesi\n",
    "import os, shutil"
   ]
  },
  {
   "cell_type": "code",
   "execution_count": 2,
   "id": "1030cf88",
   "metadata": {},
   "outputs": [],
   "source": [
    "# Base dataset'in ve yeni small dataset'in yolu ve klasörlerin oluşturulması\n",
    "# train, validation ve test olarak üç grup\n",
    "# cats ve dogs olmak üzere iki grup\n",
    "original_dataset_dir = 'C:\\\\Users\\\\oguzs\\\\Downloads\\\\Dogs_vs_Cats_Dataset\\\\train'"
   ]
  },
  {
   "cell_type": "code",
   "execution_count": 3,
   "id": "6ca60c36",
   "metadata": {},
   "outputs": [],
   "source": [
    "base_dir = 'C:\\\\Users\\\\oguzs\\\\ColabCodes\\\\Datasets\\\\dogs_vs_cats_small'"
   ]
  },
  {
   "cell_type": "code",
   "execution_count": null,
   "id": "484fef6c",
   "metadata": {},
   "outputs": [],
   "source": [
    "os.mkdir(base_dir)"
   ]
  },
  {
   "cell_type": "code",
   "execution_count": 4,
   "id": "31e9c3b1",
   "metadata": {},
   "outputs": [],
   "source": [
    "train_dir = os.path.join(base_dir, 'train')\n",
    "validation_dir = os.path.join(base_dir, 'validation')\n",
    "test_dir = os.path.join(base_dir, 'test')"
   ]
  },
  {
   "cell_type": "code",
   "execution_count": null,
   "id": "4c19a180",
   "metadata": {},
   "outputs": [],
   "source": [
    "os.mkdir(train_dir)\n",
    "os.mkdir(validation_dir)\n",
    "os.mkdir(test_dir)"
   ]
  },
  {
   "cell_type": "code",
   "execution_count": 5,
   "id": "7d2c7b35",
   "metadata": {},
   "outputs": [],
   "source": [
    "train_cats_dir = os.path.join(train_dir, 'cats')\n",
    "train_dogs_dir = os.path.join(train_dir, 'dogs')\n",
    "validation_cats_dir = os.path.join(validation_dir, 'cats')\n",
    "validation_dogs_dir = os.path.join(validation_dir, 'dogs')\n",
    "test_cats_dir = os.path.join(test_dir, 'cats')\n",
    "test_dogs_dir = os.path.join(test_dir, 'dogs')"
   ]
  },
  {
   "cell_type": "code",
   "execution_count": null,
   "id": "de8cff76",
   "metadata": {},
   "outputs": [],
   "source": [
    "os.mkdir(train_cats_dir)\n",
    "os.mkdir(train_dogs_dir)\n",
    "os.mkdir(validation_cats_dir)\n",
    "os.mkdir(validation_dogs_dir)\n",
    "os.mkdir(test_cats_dir)\n",
    "os.mkdir(test_dogs_dir)"
   ]
  },
  {
   "cell_type": "code",
   "execution_count": 6,
   "id": "3f4b4b4b",
   "metadata": {},
   "outputs": [],
   "source": [
    "# Ana dizinden verilerin yeni dizine parçalanarak aktarılması\n",
    "fnames = ['cat.{}.jpg'.format(i) for i in range(1000)]\n",
    "\n",
    "for fname in fnames:\n",
    "    src = os.path.join(original_dataset_dir, fname)\n",
    "    dst = os.path.join(train_cats_dir, fname)\n",
    "    shutil.copyfile(src, dst)"
   ]
  },
  {
   "cell_type": "code",
   "execution_count": 7,
   "id": "932fb3a1",
   "metadata": {},
   "outputs": [],
   "source": [
    "fnames = ['cat.{}.jpg'.format(i) for i in range(1000, 1500)]\n",
    "\n",
    "for fname in fnames:\n",
    "    src = os.path.join(original_dataset_dir, fname)\n",
    "    dst = os.path.join(validation_cats_dir, fname)\n",
    "    shutil.copyfile(src, dst)"
   ]
  },
  {
   "cell_type": "code",
   "execution_count": 8,
   "id": "879aa614",
   "metadata": {},
   "outputs": [],
   "source": [
    "fnames = ['cat.{}.jpg'.format(i) for i in range(1500, 2000)]\n",
    "\n",
    "for fname in fnames:\n",
    "    src = os.path.join(original_dataset_dir, fname)\n",
    "    dst = os.path.join(test_cats_dir, fname)\n",
    "    shutil.copyfile(src, dst)"
   ]
  },
  {
   "cell_type": "code",
   "execution_count": 9,
   "id": "dd06bcdb",
   "metadata": {},
   "outputs": [],
   "source": [
    "fnames = ['dog.{}.jpg'.format(i) for i in range(1000)]\n",
    "\n",
    "for fname in fnames:\n",
    "    src = os.path.join(original_dataset_dir, fname)\n",
    "    dst = os.path.join(train_dogs_dir, fname)\n",
    "    shutil.copyfile(src, dst)"
   ]
  },
  {
   "cell_type": "code",
   "execution_count": 10,
   "id": "79d7966d",
   "metadata": {},
   "outputs": [],
   "source": [
    "fnames = ['dog.{}.jpg'.format(i) for i in range(1000, 1500)]\n",
    "\n",
    "for fname in fnames:\n",
    "    src = os.path.join(original_dataset_dir, fname)\n",
    "    dst = os.path.join(validation_dogs_dir, fname)\n",
    "    shutil.copyfile(src, dst)"
   ]
  },
  {
   "cell_type": "code",
   "execution_count": 11,
   "id": "ce26bde8",
   "metadata": {},
   "outputs": [],
   "source": [
    "fnames = ['dog.{}.jpg'.format(i) for i in range(1500, 2000)]\n",
    "\n",
    "for fname in fnames:\n",
    "    src = os.path.join(original_dataset_dir, fname)\n",
    "    dst = os.path.join(test_dogs_dir, fname)\n",
    "    shutil.copyfile(src, dst)"
   ]
  },
  {
   "cell_type": "code",
   "execution_count": 6,
   "id": "6e3a1e0f",
   "metadata": {},
   "outputs": [
    {
     "name": "stdout",
     "output_type": "stream",
     "text": [
      "total training cat images:  1000\n"
     ]
    }
   ],
   "source": [
    "# Oluşturulan yeni dataset gruplarının boyutları\n",
    "print('total training cat images: ', len(os.listdir(train_cats_dir)))"
   ]
  },
  {
   "cell_type": "code",
   "execution_count": 7,
   "id": "7da16554",
   "metadata": {},
   "outputs": [
    {
     "name": "stdout",
     "output_type": "stream",
     "text": [
      "total validation cat images:  500\n"
     ]
    }
   ],
   "source": [
    "print('total validation cat images: ', len(os.listdir(validation_cats_dir)))"
   ]
  },
  {
   "cell_type": "code",
   "execution_count": 8,
   "id": "58c43fbb",
   "metadata": {},
   "outputs": [
    {
     "name": "stdout",
     "output_type": "stream",
     "text": [
      "total test cat images:  500\n"
     ]
    }
   ],
   "source": [
    "print('total test cat images: ', len(os.listdir(test_cats_dir)))"
   ]
  },
  {
   "cell_type": "code",
   "execution_count": 9,
   "id": "0e01e89d",
   "metadata": {},
   "outputs": [
    {
     "name": "stdout",
     "output_type": "stream",
     "text": [
      "total training dog images:  1000\n"
     ]
    }
   ],
   "source": [
    "print('total training dog images: ', len(os.listdir(train_dogs_dir)))"
   ]
  },
  {
   "cell_type": "code",
   "execution_count": 10,
   "id": "1c72b21e",
   "metadata": {},
   "outputs": [
    {
     "name": "stdout",
     "output_type": "stream",
     "text": [
      "total validation dog images:  500\n"
     ]
    }
   ],
   "source": [
    "print('total validation dog images: ', len(os.listdir(validation_dogs_dir)))"
   ]
  },
  {
   "cell_type": "code",
   "execution_count": 11,
   "id": "d1e6ecd5",
   "metadata": {},
   "outputs": [
    {
     "name": "stdout",
     "output_type": "stream",
     "text": [
      "total test dog images:  500\n"
     ]
    }
   ],
   "source": [
    "print('total test dog images: ', len(os.listdir(test_dogs_dir)))"
   ]
  },
  {
   "cell_type": "markdown",
   "id": "15ede42a",
   "metadata": {},
   "source": [
    "# CNN modeli kurma (Ön Eğitimsiz)"
   ]
  },
  {
   "cell_type": "code",
   "execution_count": 12,
   "id": "ae87652c",
   "metadata": {},
   "outputs": [
    {
     "name": "stderr",
     "output_type": "stream",
     "text": [
      "Using TensorFlow backend.\n"
     ]
    }
   ],
   "source": [
    "# Model için gerekli kütüphanelerin import edilmesi\n",
    "from keras import layers\n",
    "from keras import models"
   ]
  },
  {
   "cell_type": "code",
   "execution_count": 13,
   "id": "133f549e",
   "metadata": {},
   "outputs": [],
   "source": [
    "# İlk tasarlanan temel model\n",
    "# (fonksiyonun oluşturulması, çağrılması ve compile edilmesi)\n",
    "def MyModel():\n",
    "    model = models.Sequential()\n",
    "    \n",
    "    model.add(layers.Conv2D(32, (3, 3), activation='relu', input_shape=(150, 150, 3)))\n",
    "    model.add(layers.MaxPooling2D((2, 2)))\n",
    "    model.add(layers.Conv2D(64, (3, 3), activation='relu'))\n",
    "    model.add(layers.MaxPooling2D((2, 2)))\n",
    "    model.add(layers.Conv2D(128, (3, 3), activation='relu'))\n",
    "    model.add(layers.MaxPooling2D((2, 2)))\n",
    "    model.add(layers.Conv2D(128, (3, 3), activation='relu'))\n",
    "    model.add(layers.MaxPooling2D((2, 2)))\n",
    "    \n",
    "    model.add(layers.Flatten())\n",
    "    model.add(layers.Dense(512, activation='relu'))\n",
    "    model.add(layers.Dense(1, activation='sigmoid'))\n",
    "    \n",
    "    return model"
   ]
  },
  {
   "cell_type": "code",
   "execution_count": 14,
   "id": "639bc0f0",
   "metadata": {},
   "outputs": [],
   "source": [
    "model = MyModel()"
   ]
  },
  {
   "cell_type": "code",
   "execution_count": 15,
   "id": "b8f6785a",
   "metadata": {},
   "outputs": [
    {
     "name": "stdout",
     "output_type": "stream",
     "text": [
      "Model: \"sequential_1\"\n",
      "_________________________________________________________________\n",
      "Layer (type)                 Output Shape              Param #   \n",
      "=================================================================\n",
      "conv2d_1 (Conv2D)            (None, 148, 148, 32)      896       \n",
      "_________________________________________________________________\n",
      "max_pooling2d_1 (MaxPooling2 (None, 74, 74, 32)        0         \n",
      "_________________________________________________________________\n",
      "conv2d_2 (Conv2D)            (None, 72, 72, 64)        18496     \n",
      "_________________________________________________________________\n",
      "max_pooling2d_2 (MaxPooling2 (None, 36, 36, 64)        0         \n",
      "_________________________________________________________________\n",
      "conv2d_3 (Conv2D)            (None, 34, 34, 128)       73856     \n",
      "_________________________________________________________________\n",
      "max_pooling2d_3 (MaxPooling2 (None, 17, 17, 128)       0         \n",
      "_________________________________________________________________\n",
      "conv2d_4 (Conv2D)            (None, 15, 15, 128)       147584    \n",
      "_________________________________________________________________\n",
      "max_pooling2d_4 (MaxPooling2 (None, 7, 7, 128)         0         \n",
      "_________________________________________________________________\n",
      "flatten_1 (Flatten)          (None, 6272)              0         \n",
      "_________________________________________________________________\n",
      "dense_1 (Dense)              (None, 512)               3211776   \n",
      "_________________________________________________________________\n",
      "dense_2 (Dense)              (None, 1)                 513       \n",
      "=================================================================\n",
      "Total params: 3,453,121\n",
      "Trainable params: 3,453,121\n",
      "Non-trainable params: 0\n",
      "_________________________________________________________________\n"
     ]
    }
   ],
   "source": [
    "model.summary()"
   ]
  },
  {
   "cell_type": "code",
   "execution_count": 16,
   "id": "b559ae17",
   "metadata": {},
   "outputs": [],
   "source": [
    "# \"optimizer\"da RMSprop'u kullanabilmek için gerekli kütüphanenin import edilmesi\n",
    "from keras import optimizers"
   ]
  },
  {
   "cell_type": "code",
   "execution_count": 17,
   "id": "686dc1f6",
   "metadata": {},
   "outputs": [],
   "source": [
    "model.compile(\n",
    "    loss='binary_crossentropy',\n",
    "    optimizer=optimizers.RMSprop(lr=1e-4),\n",
    "    metrics=['acc'])"
   ]
  },
  {
   "cell_type": "markdown",
   "id": "a1245722",
   "metadata": {},
   "source": [
    "# Veri Önişleme"
   ]
  },
  {
   "cell_type": "code",
   "execution_count": 18,
   "id": "04c694bc",
   "metadata": {},
   "outputs": [],
   "source": [
    "# Veri Önişleme (preprocessing) için gerekli kütüphanelerin import edilmesi\n",
    "# (JPG dosların tensor'lere dönüştürülmesi gerekli)\n",
    "from keras.preprocessing.image import ImageDataGenerator"
   ]
  },
  {
   "cell_type": "code",
   "execution_count": 19,
   "id": "57710a0d",
   "metadata": {},
   "outputs": [],
   "source": [
    "# RGB kanallarının 0-1 arasına normalize edilmesi\n",
    "train_datagen = ImageDataGenerator(rescale=1./255)\n",
    "validation_datagen = ImageDataGenerator(rescale=1./255)"
   ]
  },
  {
   "cell_type": "code",
   "execution_count": 20,
   "id": "ce730e94",
   "metadata": {},
   "outputs": [
    {
     "name": "stdout",
     "output_type": "stream",
     "text": [
      "Found 2000 images belonging to 2 classes.\n"
     ]
    }
   ],
   "source": [
    "# Eğitim için gerekli olan train ve validation veri üreteçlerinin (data generator) oluşturulması\n",
    "# (boyutlar (150, 150), her seferinde 20'li gruplarla ve binary kategorize edilmiş bir şekilde)\n",
    "train_generator = train_datagen.flow_from_directory(\n",
    "    train_dir,\n",
    "    target_size=(150, 150),\n",
    "    batch_size=20,\n",
    "    class_mode='binary')"
   ]
  },
  {
   "cell_type": "code",
   "execution_count": 21,
   "id": "f6fc9ded",
   "metadata": {},
   "outputs": [
    {
     "name": "stdout",
     "output_type": "stream",
     "text": [
      "Found 1000 images belonging to 2 classes.\n"
     ]
    }
   ],
   "source": [
    "validation_generator = validation_datagen.flow_from_directory(\n",
    "    validation_dir,\n",
    "    target_size=(150, 150),\n",
    "    batch_size=20,\n",
    "    class_mode='binary')"
   ]
  },
  {
   "cell_type": "code",
   "execution_count": 22,
   "id": "8df4cbdd",
   "metadata": {},
   "outputs": [
    {
     "name": "stdout",
     "output_type": "stream",
     "text": [
      "data batch shape:  (20, 150, 150, 3)\n",
      "labels batch shape:  (20,)\n"
     ]
    }
   ],
   "source": [
    "# Üreteçlerin çıktılarının gösterimi\n",
    "for data_batch, labels_batch in train_generator:\n",
    "    print('data batch shape: ', data_batch.shape)\n",
    "    print('labels batch shape: ', labels_batch.shape)\n",
    "    break"
   ]
  },
  {
   "cell_type": "markdown",
   "id": "3b42f19c",
   "metadata": {},
   "source": [
    "# Eğitme ve Başarımı Değerlendirme"
   ]
  },
  {
   "cell_type": "code",
   "execution_count": 23,
   "id": "0d86f2bb",
   "metadata": {
    "scrolled": true
   },
   "outputs": [
    {
     "name": "stdout",
     "output_type": "stream",
     "text": [
      "Epoch 1/30\n",
      "100/100 [==============================] - 7s 65ms/step - loss: 0.6901 - acc: 0.5305 - val_loss: 0.6835 - val_acc: 0.6240\n",
      "Epoch 2/30\n",
      "100/100 [==============================] - 5s 46ms/step - loss: 0.6532 - acc: 0.6050 - val_loss: 0.6139 - val_acc: 0.6310\n",
      "Epoch 3/30\n",
      "100/100 [==============================] - 5s 46ms/step - loss: 0.5980 - acc: 0.6775 - val_loss: 0.5498 - val_acc: 0.6690\n",
      "Epoch 4/30\n",
      "100/100 [==============================] - 5s 46ms/step - loss: 0.5676 - acc: 0.7055 - val_loss: 0.7503 - val_acc: 0.6250\n",
      "Epoch 5/30\n",
      "100/100 [==============================] - 5s 46ms/step - loss: 0.5377 - acc: 0.7240 - val_loss: 0.6802 - val_acc: 0.6900\n",
      "Epoch 6/30\n",
      "100/100 [==============================] - 5s 46ms/step - loss: 0.5027 - acc: 0.7535 - val_loss: 0.5860 - val_acc: 0.6920\n",
      "Epoch 7/30\n",
      "100/100 [==============================] - 5s 46ms/step - loss: 0.4802 - acc: 0.7705 - val_loss: 0.4026 - val_acc: 0.6920\n",
      "Epoch 8/30\n",
      "100/100 [==============================] - 5s 46ms/step - loss: 0.4495 - acc: 0.7875 - val_loss: 0.6017 - val_acc: 0.6820\n",
      "Epoch 9/30\n",
      "100/100 [==============================] - 5s 45ms/step - loss: 0.4194 - acc: 0.8070 - val_loss: 0.3920 - val_acc: 0.7210\n",
      "Epoch 10/30\n",
      "100/100 [==============================] - 5s 46ms/step - loss: 0.3929 - acc: 0.8275 - val_loss: 0.4720 - val_acc: 0.7160\n",
      "Epoch 11/30\n",
      "100/100 [==============================] - 5s 47ms/step - loss: 0.3667 - acc: 0.8440 - val_loss: 0.5086 - val_acc: 0.7380\n",
      "Epoch 12/30\n",
      "100/100 [==============================] - 5s 46ms/step - loss: 0.3517 - acc: 0.8540 - val_loss: 1.0101 - val_acc: 0.7210\n",
      "Epoch 13/30\n",
      "100/100 [==============================] - 5s 46ms/step - loss: 0.3216 - acc: 0.8610 - val_loss: 0.5308 - val_acc: 0.7170\n",
      "Epoch 14/30\n",
      "100/100 [==============================] - 5s 48ms/step - loss: 0.2966 - acc: 0.8765 - val_loss: 0.5168 - val_acc: 0.7370\n",
      "Epoch 15/30\n",
      "100/100 [==============================] - 5s 46ms/step - loss: 0.2707 - acc: 0.8915 - val_loss: 0.8257 - val_acc: 0.7050\n",
      "Epoch 16/30\n",
      "100/100 [==============================] - 5s 47ms/step - loss: 0.2546 - acc: 0.8940 - val_loss: 0.8354 - val_acc: 0.7160\n",
      "Epoch 17/30\n",
      "100/100 [==============================] - 5s 48ms/step - loss: 0.2288 - acc: 0.9150 - val_loss: 0.6056 - val_acc: 0.7210\n",
      "Epoch 18/30\n",
      "100/100 [==============================] - 5s 47ms/step - loss: 0.2075 - acc: 0.9190 - val_loss: 0.6989 - val_acc: 0.7350\n",
      "Epoch 19/30\n",
      "100/100 [==============================] - 5s 47ms/step - loss: 0.1911 - acc: 0.9325 - val_loss: 0.6973 - val_acc: 0.7340\n",
      "Epoch 20/30\n",
      "100/100 [==============================] - 5s 47ms/step - loss: 0.1702 - acc: 0.9400 - val_loss: 0.4521 - val_acc: 0.7480\n",
      "Epoch 21/30\n",
      "100/100 [==============================] - 5s 46ms/step - loss: 0.1469 - acc: 0.9535 - val_loss: 0.6288 - val_acc: 0.7370\n",
      "Epoch 22/30\n",
      "100/100 [==============================] - 5s 46ms/step - loss: 0.1343 - acc: 0.9505 - val_loss: 0.9807 - val_acc: 0.7270\n",
      "Epoch 23/30\n",
      "100/100 [==============================] - 5s 46ms/step - loss: 0.1148 - acc: 0.9590 - val_loss: 1.0251 - val_acc: 0.7290\n",
      "Epoch 24/30\n",
      "100/100 [==============================] - 5s 48ms/step - loss: 0.0986 - acc: 0.9715 - val_loss: 0.4217 - val_acc: 0.7370\n",
      "Epoch 25/30\n",
      "100/100 [==============================] - 5s 46ms/step - loss: 0.0879 - acc: 0.9755 - val_loss: 2.0138 - val_acc: 0.7030\n",
      "Epoch 26/30\n",
      "100/100 [==============================] - 5s 46ms/step - loss: 0.0722 - acc: 0.9800 - val_loss: 0.9778 - val_acc: 0.7340\n",
      "Epoch 27/30\n",
      "100/100 [==============================] - 5s 46ms/step - loss: 0.0682 - acc: 0.9805 - val_loss: 0.6014 - val_acc: 0.7390\n",
      "Epoch 28/30\n",
      "100/100 [==============================] - 5s 46ms/step - loss: 0.0540 - acc: 0.9870 - val_loss: 0.7490 - val_acc: 0.7350\n",
      "Epoch 29/30\n",
      "100/100 [==============================] - 5s 46ms/step - loss: 0.0471 - acc: 0.9865 - val_loss: 0.8866 - val_acc: 0.7300\n",
      "Epoch 30/30\n",
      "100/100 [==============================] - 5s 46ms/step - loss: 0.0477 - acc: 0.9870 - val_loss: 0.8496 - val_acc: 0.7300\n"
     ]
    }
   ],
   "source": [
    "# modelin eğitilmesi\n",
    "history = model.fit_generator(\n",
    "    train_generator,\n",
    "    steps_per_epoch=100,\n",
    "    epochs=30,\n",
    "    validation_data=validation_generator,\n",
    "    validation_steps=50)"
   ]
  },
  {
   "cell_type": "code",
   "execution_count": 25,
   "id": "0c42522c",
   "metadata": {},
   "outputs": [],
   "source": [
    "# Eğitimi görselleştirmek için gerekli kütüphanenin import edilmesi\n",
    "import matplotlib.pyplot as plt"
   ]
  },
  {
   "cell_type": "code",
   "execution_count": 26,
   "id": "98903c54",
   "metadata": {},
   "outputs": [],
   "source": [
    "# Başarım ve Kayıp grafiklerini çizdiren fonksiyon\n",
    "def showAccAndLoss(arg_history):\n",
    "    \n",
    "    acc = arg_history.history['acc']\n",
    "    val_acc = arg_history.history['val_acc']\n",
    "    loss = arg_history.history['loss']\n",
    "    val_loss = arg_history.history['val_loss']\n",
    "    \n",
    "    epochs = range(1, len(acc) + 1)\n",
    "    \n",
    "    plt.plot(epochs, acc, 'bo', label='Eğitim Başarımı')\n",
    "    plt.plot(epochs, val_acc, 'b', label='Doğrulama Başarımı')\n",
    "    plt.title('Eğitim ve Doğrulama Başarımı')\n",
    "    plt.legend()\n",
    "    \n",
    "    plt.figure()\n",
    "    \n",
    "    plt.plot(epochs, loss, 'bo', label='Eğitim Kaybı')\n",
    "    plt.plot(epochs, val_loss, 'b', label='Doğrulama Kaybı')\n",
    "    plt.title('Eğitim ve Doğrulama Kaybı')\n",
    "    plt.legend()\n",
    "    \n",
    "    plt.show()"
   ]
  },
  {
   "cell_type": "code",
   "execution_count": 27,
   "id": "38ad70ef",
   "metadata": {},
   "outputs": [
    {
     "data": {
      "image/png": "[encoded data removed]",
      "text/plain": [
       "<Figure size 432x288 with 1 Axes>"
      ]
     },
     "metadata": {
      "needs_background": "light"
     },
     "output_type": "display_data"
    },
    {
     "data": {
      "image/png": "[encoded data removed]",
      "text/plain": [
       "<Figure size 432x288 with 1 Axes>"
      ]
     },
     "metadata": {
      "needs_background": "light"
     },
     "output_type": "display_data"
    }
   ],
   "source": [
    "# Grafiklerin çizdirilmesi\n",
    "showAccAndLoss(history)"
   ]
  },
  {
   "cell_type": "markdown",
   "id": "091908a8",
   "metadata": {},
   "source": [
    "# Part-2: Dataset Çeşitlendirme"
   ]
  },
  {
   "cell_type": "code",
   "execution_count": 28,
   "id": "e106a7da",
   "metadata": {},
   "outputs": [],
   "source": [
    "# Az veri sorununu çözmek için verisetinde çeşitlendirmeye gidilmesi\n",
    "# \n",
    "# Modelin güncellenmesi\n",
    "# (Çeşitlendirmeden kaynaklanacak overfitting'i kırmak için Dropout katmanının eklenmesi)\n",
    "def MyModel2():\n",
    "    model = models.Sequential()\n",
    "    \n",
    "    model.add(layers.Conv2D(32, (3, 3), activation='relu', input_shape=(150, 150, 3)))\n",
    "    model.add(layers.MaxPooling2D((2, 2)))\n",
    "    model.add(layers.Conv2D(64, (3, 3), activation='relu'))\n",
    "    model.add(layers.MaxPooling2D((2, 2)))\n",
    "    model.add(layers.Conv2D(128, (3, 3), activation='relu'))\n",
    "    model.add(layers.MaxPooling2D((2, 2)))\n",
    "    model.add(layers.Conv2D(128, (3, 3), activation='relu'))\n",
    "    model.add(layers.MaxPooling2D((2, 2)))\n",
    "    \n",
    "    model.add(layers.Flatten())\n",
    "    model.add(layers.Dropout(0.5))\n",
    "    model.add(layers.Dense(512, activation='relu'))\n",
    "    model.add(layers.Dense(1, activation='sigmoid'))\n",
    "    \n",
    "    return model"
   ]
  },
  {
   "cell_type": "code",
   "execution_count": 29,
   "id": "9e8cdef7",
   "metadata": {},
   "outputs": [],
   "source": [
    "# train datasetinin çeşitlendirilmesi için gerekli transform parametrelerinin eklenmesi \n",
    "train_datagen = ImageDataGenerator(\n",
    "    rescale=1./255,\n",
    "    rotation_range=40,\n",
    "    width_shift_range=0.2,\n",
    "    height_shift_range=0.2,\n",
    "    shear_range=0.2,\n",
    "    zoom_range=0.2,\n",
    "    horizontal_flip=True,)"
   ]
  },
  {
   "cell_type": "code",
   "execution_count": 30,
   "id": "929c61ea",
   "metadata": {},
   "outputs": [],
   "source": [
    "validation_datagen = ImageDataGenerator(rescale=1./255)"
   ]
  },
  {
   "cell_type": "code",
   "execution_count": 31,
   "id": "7bf843c8",
   "metadata": {},
   "outputs": [
    {
     "name": "stdout",
     "output_type": "stream",
     "text": [
      "Found 2000 images belonging to 2 classes.\n"
     ]
    }
   ],
   "source": [
    "train_generator = train_datagen.flow_from_directory(\n",
    "    train_dir,\n",
    "    target_size=(150, 150),\n",
    "    batch_size=32,\n",
    "    class_mode='binary')"
   ]
  },
  {
   "cell_type": "code",
   "execution_count": 32,
   "id": "43767ce3",
   "metadata": {},
   "outputs": [
    {
     "name": "stdout",
     "output_type": "stream",
     "text": [
      "Found 1000 images belonging to 2 classes.\n"
     ]
    }
   ],
   "source": [
    "validation_generator = validation_datagen.flow_from_directory(\n",
    "    validation_dir,\n",
    "    target_size=(150, 150),\n",
    "    batch_size=32,\n",
    "    class_mode='binary')"
   ]
  },
  {
   "cell_type": "code",
   "execution_count": 33,
   "id": "7f752c61",
   "metadata": {},
   "outputs": [],
   "source": [
    "model = MyModel2()"
   ]
  },
  {
   "cell_type": "code",
   "execution_count": 34,
   "id": "b8ee2086",
   "metadata": {},
   "outputs": [],
   "source": [
    "model.compile(\n",
    "    loss='binary_crossentropy',\n",
    "    optimizer=optimizers.RMSprop(lr=1e-4),\n",
    "    metrics=['acc'])"
   ]
  },
  {
   "cell_type": "markdown",
   "id": "111c1129",
   "metadata": {},
   "source": [
    "# Eğitme ve Başarımı Değerlendirme 2"
   ]
  },
  {
   "cell_type": "code",
   "execution_count": 35,
   "id": "e7ce5862",
   "metadata": {
    "scrolled": true
   },
   "outputs": [
    {
     "name": "stdout",
     "output_type": "stream",
     "text": [
      "Epoch 1/100\n",
      "100/100 [==============================] - 17s 174ms/step - loss: 0.6918 - acc: 0.5180 - val_loss: 0.6808 - val_acc: 0.5799\n",
      "Epoch 2/100\n",
      "100/100 [==============================] - 16s 158ms/step - loss: 0.6812 - acc: 0.5631 - val_loss: 0.6552 - val_acc: 0.5812\n",
      "Epoch 3/100\n",
      "100/100 [==============================] - 16s 158ms/step - loss: 0.6633 - acc: 0.5953 - val_loss: 0.6798 - val_acc: 0.6047\n",
      "Epoch 4/100\n",
      "100/100 [==============================] - 16s 159ms/step - loss: 0.6618 - acc: 0.5970 - val_loss: 0.5626 - val_acc: 0.6501\n",
      "Epoch 5/100\n",
      "100/100 [==============================] - 16s 158ms/step - loss: 0.6404 - acc: 0.6348 - val_loss: 0.6005 - val_acc: 0.6421\n",
      "Epoch 6/100\n",
      "100/100 [==============================] - 17s 171ms/step - loss: 0.6204 - acc: 0.6512 - val_loss: 0.7358 - val_acc: 0.6649\n",
      "Epoch 7/100\n",
      "100/100 [==============================] - 16s 157ms/step - loss: 0.6034 - acc: 0.6737 - val_loss: 0.6656 - val_acc: 0.6688\n",
      "Epoch 8/100\n",
      "100/100 [==============================] - 16s 160ms/step - loss: 0.5943 - acc: 0.6828 - val_loss: 0.6306 - val_acc: 0.6559\n",
      "Epoch 9/100\n",
      "100/100 [==============================] - 16s 157ms/step - loss: 0.5853 - acc: 0.6888 - val_loss: 0.5466 - val_acc: 0.6972\n",
      "Epoch 10/100\n",
      "100/100 [==============================] - 16s 155ms/step - loss: 0.5735 - acc: 0.6998 - val_loss: 0.6474 - val_acc: 0.6802\n",
      "Epoch 11/100\n",
      "100/100 [==============================] - 17s 165ms/step - loss: 0.5777 - acc: 0.6888 - val_loss: 0.5725 - val_acc: 0.7262\n",
      "Epoch 12/100\n",
      "100/100 [==============================] - 16s 165ms/step - loss: 0.5585 - acc: 0.7099 - val_loss: 0.6370 - val_acc: 0.6618\n",
      "Epoch 13/100\n",
      "100/100 [==============================] - 17s 167ms/step - loss: 0.5591 - acc: 0.7184 - val_loss: 0.3847 - val_acc: 0.7191\n",
      "Epoch 14/100\n",
      "100/100 [==============================] - 16s 165ms/step - loss: 0.5532 - acc: 0.7098 - val_loss: 0.5897 - val_acc: 0.7278\n",
      "Epoch 15/100\n",
      "100/100 [==============================] - 17s 169ms/step - loss: 0.5494 - acc: 0.7208 - val_loss: 0.6194 - val_acc: 0.7236\n",
      "Epoch 16/100\n",
      "100/100 [==============================] - 17s 168ms/step - loss: 0.5461 - acc: 0.7173 - val_loss: 0.5721 - val_acc: 0.7171\n",
      "Epoch 17/100\n",
      "100/100 [==============================] - 16s 165ms/step - loss: 0.5352 - acc: 0.7208 - val_loss: 0.5257 - val_acc: 0.7418\n",
      "Epoch 18/100\n",
      "100/100 [==============================] - 18s 180ms/step - loss: 0.5300 - acc: 0.7254 - val_loss: 0.7140 - val_acc: 0.7365\n",
      "Epoch 19/100\n",
      "100/100 [==============================] - 17s 167ms/step - loss: 0.5184 - acc: 0.7425 - val_loss: 0.4024 - val_acc: 0.7392\n",
      "Epoch 20/100\n",
      "100/100 [==============================] - 17s 165ms/step - loss: 0.5191 - acc: 0.7453 - val_loss: 0.3350 - val_acc: 0.7345\n",
      "Epoch 21/100\n",
      "100/100 [==============================] - 16s 164ms/step - loss: 0.5205 - acc: 0.7403 - val_loss: 0.7304 - val_acc: 0.7240\n",
      "Epoch 22/100\n",
      "100/100 [==============================] - 17s 167ms/step - loss: 0.5131 - acc: 0.7478 - val_loss: 0.5483 - val_acc: 0.7416\n",
      "Epoch 23/100\n",
      "100/100 [==============================] - 18s 176ms/step - loss: 0.5058 - acc: 0.7566 - val_loss: 0.6139 - val_acc: 0.7360\n",
      "Epoch 24/100\n",
      "100/100 [==============================] - 17s 169ms/step - loss: 0.5062 - acc: 0.7475 - val_loss: 0.5140 - val_acc: 0.7371\n",
      "Epoch 25/100\n",
      "100/100 [==============================] - 16s 163ms/step - loss: 0.4956 - acc: 0.7519 - val_loss: 0.4147 - val_acc: 0.7545\n",
      "Epoch 26/100\n",
      "100/100 [==============================] - 16s 164ms/step - loss: 0.5019 - acc: 0.7557 - val_loss: 0.5008 - val_acc: 0.7468\n",
      "Epoch 27/100\n",
      "100/100 [==============================] - 16s 164ms/step - loss: 0.4983 - acc: 0.7619 - val_loss: 0.5479 - val_acc: 0.7506\n",
      "Epoch 28/100\n",
      "100/100 [==============================] - 17s 169ms/step - loss: 0.4938 - acc: 0.7582 - val_loss: 0.6125 - val_acc: 0.7354\n",
      "Epoch 29/100\n",
      "100/100 [==============================] - 17s 167ms/step - loss: 0.4826 - acc: 0.7641 - val_loss: 0.5871 - val_acc: 0.7590\n",
      "Epoch 30/100\n",
      "100/100 [==============================] - 16s 164ms/step - loss: 0.4912 - acc: 0.7607 - val_loss: 0.5273 - val_acc: 0.7487\n",
      "Epoch 31/100\n",
      "100/100 [==============================] - 17s 171ms/step - loss: 0.4921 - acc: 0.7608 - val_loss: 0.5592 - val_acc: 0.7436\n",
      "Epoch 32/100\n",
      "100/100 [==============================] - 17s 168ms/step - loss: 0.4846 - acc: 0.7663 - val_loss: 0.4890 - val_acc: 0.7545\n",
      "Epoch 33/100\n",
      "100/100 [==============================] - 16s 165ms/step - loss: 0.4686 - acc: 0.7778 - val_loss: 0.4611 - val_acc: 0.7373\n",
      "Epoch 34/100\n",
      "100/100 [==============================] - 16s 164ms/step - loss: 0.4828 - acc: 0.7613 - val_loss: 0.5288 - val_acc: 0.7577\n",
      "Epoch 35/100\n",
      "100/100 [==============================] - 18s 181ms/step - loss: 0.4658 - acc: 0.7720 - val_loss: 0.5968 - val_acc: 0.7722\n",
      "Epoch 36/100\n",
      "100/100 [==============================] - 18s 179ms/step - loss: 0.4742 - acc: 0.7702 - val_loss: 0.3794 - val_acc: 0.7777\n",
      "Epoch 37/100\n",
      "100/100 [==============================] - 17s 167ms/step - loss: 0.4823 - acc: 0.7642 - val_loss: 0.3751 - val_acc: 0.7862\n",
      "Epoch 38/100\n",
      "100/100 [==============================] - 17s 169ms/step - loss: 0.4581 - acc: 0.7836 - val_loss: 0.5652 - val_acc: 0.7403\n",
      "Epoch 39/100\n",
      "100/100 [==============================] - 17s 168ms/step - loss: 0.4673 - acc: 0.7790 - val_loss: 0.4588 - val_acc: 0.7824\n",
      "Epoch 40/100\n",
      "100/100 [==============================] - 19s 187ms/step - loss: 0.4488 - acc: 0.8009 - val_loss: 0.5242 - val_acc: 0.7693\n",
      "Epoch 41/100\n",
      "100/100 [==============================] - 17s 170ms/step - loss: 0.4583 - acc: 0.7790 - val_loss: 0.5470 - val_acc: 0.7461\n",
      "Epoch 42/100\n",
      "100/100 [==============================] - 17s 171ms/step - loss: 0.4463 - acc: 0.7849 - val_loss: 0.7231 - val_acc: 0.7519\n",
      "Epoch 43/100\n",
      "100/100 [==============================] - 17s 173ms/step - loss: 0.4519 - acc: 0.7828 - val_loss: 0.3564 - val_acc: 0.7616\n",
      "Epoch 44/100\n",
      "100/100 [==============================] - 17s 167ms/step - loss: 0.4505 - acc: 0.7847 - val_loss: 0.7415 - val_acc: 0.7633\n",
      "Epoch 45/100\n",
      "100/100 [==============================] - 17s 175ms/step - loss: 0.4449 - acc: 0.7835 - val_loss: 0.4185 - val_acc: 0.7738\n",
      "Epoch 46/100\n",
      "100/100 [==============================] - 17s 167ms/step - loss: 0.4445 - acc: 0.7924 - val_loss: 0.3270 - val_acc: 0.7500\n",
      "Epoch 47/100\n",
      "100/100 [==============================] - 17s 174ms/step - loss: 0.4495 - acc: 0.7787 - val_loss: 0.4982 - val_acc: 0.7964\n",
      "Epoch 48/100\n",
      "100/100 [==============================] - 17s 167ms/step - loss: 0.4421 - acc: 0.7924 - val_loss: 0.5202 - val_acc: 0.7945\n",
      "Epoch 49/100\n",
      "100/100 [==============================] - 17s 169ms/step - loss: 0.4387 - acc: 0.7923 - val_loss: 0.4206 - val_acc: 0.7906\n",
      "Epoch 50/100\n",
      "100/100 [==============================] - 20s 197ms/step - loss: 0.4391 - acc: 0.7864 - val_loss: 0.3634 - val_acc: 0.8003\n",
      "Epoch 51/100\n",
      "100/100 [==============================] - 20s 196ms/step - loss: 0.4288 - acc: 0.7992 - val_loss: 0.4870 - val_acc: 0.7697\n",
      "Epoch 52/100\n",
      "100/100 [==============================] - 19s 188ms/step - loss: 0.4256 - acc: 0.7977 - val_loss: 0.6912 - val_acc: 0.7339\n",
      "Epoch 53/100\n",
      "100/100 [==============================] - 17s 170ms/step - loss: 0.4347 - acc: 0.7920 - val_loss: 0.3399 - val_acc: 0.7919\n",
      "Epoch 54/100\n",
      "100/100 [==============================] - 17s 170ms/step - loss: 0.4263 - acc: 0.8027 - val_loss: 0.4665 - val_acc: 0.7906\n",
      "Epoch 55/100\n",
      "100/100 [==============================] - 17s 173ms/step - loss: 0.4191 - acc: 0.8003 - val_loss: 0.2597 - val_acc: 0.7310\n",
      "Epoch 56/100\n",
      "100/100 [==============================] - 18s 180ms/step - loss: 0.4269 - acc: 0.7936 - val_loss: 0.3755 - val_acc: 0.7938\n",
      "Epoch 57/100\n",
      "100/100 [==============================] - 18s 182ms/step - loss: 0.4152 - acc: 0.8094 - val_loss: 0.6001 - val_acc: 0.7990\n",
      "Epoch 58/100\n",
      "100/100 [==============================] - 17s 174ms/step - loss: 0.4081 - acc: 0.8071 - val_loss: 0.5608 - val_acc: 0.7792\n",
      "Epoch 59/100\n",
      "100/100 [==============================] - 17s 175ms/step - loss: 0.4147 - acc: 0.8097 - val_loss: 0.2330 - val_acc: 0.7919\n",
      "Epoch 60/100\n",
      "100/100 [==============================] - 17s 166ms/step - loss: 0.4113 - acc: 0.8109 - val_loss: 0.2957 - val_acc: 0.7862\n"
     ]
    },
    {
     "name": "stdout",
     "output_type": "stream",
     "text": [
      "Epoch 61/100\n",
      "100/100 [==============================] - 16s 164ms/step - loss: 0.4076 - acc: 0.8106 - val_loss: 0.4552 - val_acc: 0.8041\n",
      "Epoch 62/100\n",
      "100/100 [==============================] - 17s 170ms/step - loss: 0.4168 - acc: 0.8068 - val_loss: 0.4953 - val_acc: 0.7766\n",
      "Epoch 63/100\n",
      "100/100 [==============================] - 17s 168ms/step - loss: 0.4103 - acc: 0.8087 - val_loss: 0.5151 - val_acc: 0.8054\n",
      "Epoch 64/100\n",
      "100/100 [==============================] - 16s 164ms/step - loss: 0.3962 - acc: 0.8179 - val_loss: 0.7469 - val_acc: 0.7880\n",
      "Epoch 65/100\n",
      "100/100 [==============================] - 16s 163ms/step - loss: 0.3999 - acc: 0.8147 - val_loss: 0.2648 - val_acc: 0.7951\n",
      "Epoch 66/100\n",
      "100/100 [==============================] - 16s 164ms/step - loss: 0.3949 - acc: 0.8223 - val_loss: 0.4482 - val_acc: 0.8189\n",
      "Epoch 67/100\n",
      "100/100 [==============================] - 16s 164ms/step - loss: 0.3899 - acc: 0.8282 - val_loss: 0.4947 - val_acc: 0.7532\n",
      "Epoch 68/100\n",
      "100/100 [==============================] - 17s 166ms/step - loss: 0.3906 - acc: 0.8289 - val_loss: 0.5057 - val_acc: 0.7687\n",
      "Epoch 69/100\n",
      "100/100 [==============================] - 19s 188ms/step - loss: 0.3970 - acc: 0.8213 - val_loss: 0.5158 - val_acc: 0.8033\n",
      "Epoch 70/100\n",
      "100/100 [==============================] - 18s 178ms/step - loss: 0.3829 - acc: 0.8226 - val_loss: 0.5264 - val_acc: 0.7635\n",
      "Epoch 71/100\n",
      "100/100 [==============================] - 17s 173ms/step - loss: 0.3841 - acc: 0.8244 - val_loss: 0.3503 - val_acc: 0.7982\n",
      "Epoch 72/100\n",
      "100/100 [==============================] - 18s 180ms/step - loss: 0.3948 - acc: 0.8128 - val_loss: 0.4312 - val_acc: 0.8202\n",
      "Epoch 73/100\n",
      "100/100 [==============================] - 17s 173ms/step - loss: 0.3851 - acc: 0.8299 - val_loss: 0.7423 - val_acc: 0.8015\n",
      "Epoch 74/100\n",
      "100/100 [==============================] - 18s 185ms/step - loss: 0.3832 - acc: 0.8179 - val_loss: 0.3377 - val_acc: 0.8033\n",
      "Epoch 75/100\n",
      "100/100 [==============================] - 18s 179ms/step - loss: 0.3773 - acc: 0.8266 - val_loss: 0.3364 - val_acc: 0.8112\n",
      "Epoch 76/100\n",
      "100/100 [==============================] - 18s 180ms/step - loss: 0.3619 - acc: 0.8386 - val_loss: 0.4303 - val_acc: 0.8103\n",
      "Epoch 77/100\n",
      "100/100 [==============================] - 18s 181ms/step - loss: 0.3801 - acc: 0.8302 - val_loss: 0.3163 - val_acc: 0.8099\n",
      "Epoch 78/100\n",
      "100/100 [==============================] - 16s 164ms/step - loss: 0.3641 - acc: 0.8415 - val_loss: 0.5969 - val_acc: 0.7773\n",
      "Epoch 79/100\n",
      "100/100 [==============================] - 17s 169ms/step - loss: 0.3697 - acc: 0.8390 - val_loss: 0.4040 - val_acc: 0.8241\n",
      "Epoch 80/100\n",
      "100/100 [==============================] - 16s 161ms/step - loss: 0.3703 - acc: 0.8430 - val_loss: 0.1533 - val_acc: 0.8376\n",
      "Epoch 81/100\n",
      "100/100 [==============================] - 18s 179ms/step - loss: 0.3614 - acc: 0.8313 - val_loss: 0.5604 - val_acc: 0.8052\n",
      "Epoch 82/100\n",
      "100/100 [==============================] - 16s 163ms/step - loss: 0.3682 - acc: 0.8359 - val_loss: 0.4098 - val_acc: 0.8209\n",
      "Epoch 83/100\n",
      "100/100 [==============================] - 16s 163ms/step - loss: 0.3774 - acc: 0.8321 - val_loss: 0.6165 - val_acc: 0.7976\n",
      "Epoch 84/100\n",
      "100/100 [==============================] - 17s 167ms/step - loss: 0.3610 - acc: 0.8406 - val_loss: 0.4868 - val_acc: 0.8015\n",
      "Epoch 85/100\n",
      "100/100 [==============================] - 17s 166ms/step - loss: 0.3745 - acc: 0.8379 - val_loss: 0.4548 - val_acc: 0.7735\n",
      "Epoch 86/100\n",
      "100/100 [==============================] - 18s 178ms/step - loss: 0.3575 - acc: 0.8393 - val_loss: 0.8265 - val_acc: 0.8009\n",
      "Epoch 87/100\n",
      "100/100 [==============================] - 16s 163ms/step - loss: 0.3575 - acc: 0.8467 - val_loss: 0.3813 - val_acc: 0.8065\n",
      "Epoch 88/100\n",
      "100/100 [==============================] - 17s 168ms/step - loss: 0.3587 - acc: 0.8374 - val_loss: 0.3244 - val_acc: 0.8338\n",
      "Epoch 89/100\n",
      "100/100 [==============================] - 16s 164ms/step - loss: 0.3362 - acc: 0.8452 - val_loss: 0.6096 - val_acc: 0.8215\n",
      "Epoch 90/100\n",
      "100/100 [==============================] - 16s 162ms/step - loss: 0.3495 - acc: 0.8507 - val_loss: 0.3551 - val_acc: 0.8192\n",
      "Epoch 91/100\n",
      "100/100 [==============================] - 17s 171ms/step - loss: 0.3461 - acc: 0.8436 - val_loss: 0.3878 - val_acc: 0.8086\n",
      "Epoch 92/100\n",
      "100/100 [==============================] - 16s 163ms/step - loss: 0.3452 - acc: 0.8438 - val_loss: 0.3993 - val_acc: 0.8280\n",
      "Epoch 93/100\n",
      "100/100 [==============================] - 17s 168ms/step - loss: 0.3485 - acc: 0.8464 - val_loss: 0.6915 - val_acc: 0.8228\n",
      "Epoch 94/100\n",
      "100/100 [==============================] - 16s 164ms/step - loss: 0.3444 - acc: 0.8551 - val_loss: 0.4014 - val_acc: 0.8001\n",
      "Epoch 95/100\n",
      "100/100 [==============================] - 17s 166ms/step - loss: 0.3465 - acc: 0.8494 - val_loss: 0.2812 - val_acc: 0.8138\n",
      "Epoch 96/100\n",
      "100/100 [==============================] - 16s 164ms/step - loss: 0.3334 - acc: 0.8521 - val_loss: 0.0371 - val_acc: 0.7919\n",
      "Epoch 97/100\n",
      "100/100 [==============================] - 17s 169ms/step - loss: 0.3350 - acc: 0.8583 - val_loss: 0.4364 - val_acc: 0.8065\n",
      "Epoch 98/100\n",
      "100/100 [==============================] - 18s 184ms/step - loss: 0.3367 - acc: 0.8507 - val_loss: 0.3123 - val_acc: 0.8389\n",
      "Epoch 99/100\n",
      "100/100 [==============================] - 17s 169ms/step - loss: 0.3325 - acc: 0.8524 - val_loss: 0.5369 - val_acc: 0.7703\n",
      "Epoch 100/100\n",
      "100/100 [==============================] - 17s 168ms/step - loss: 0.3212 - acc: 0.8592 - val_loss: 0.2806 - val_acc: 0.8299\n"
     ]
    }
   ],
   "source": [
    "# Yeni modelin eğitilmesi\n",
    "# (epoch sayısı 100'e çıkarıldı)\n",
    "history = model.fit_generator(\n",
    "      train_generator,\n",
    "      steps_per_epoch=100,\n",
    "      epochs=100,\n",
    "      validation_data=validation_generator,\n",
    "      validation_steps=50)"
   ]
  },
  {
   "cell_type": "code",
   "execution_count": 36,
   "id": "07ebf4b2",
   "metadata": {},
   "outputs": [
    {
     "data": {
      "image/png": "[encoded data removed]",
      "text/plain": [
       "<Figure size 432x288 with 1 Axes>"
      ]
     },
     "metadata": {
      "needs_background": "light"
     },
     "output_type": "display_data"
    },
    {
     "data": {
      "image/png": "[encoded data removed]",
      "text/plain": [
       "<Figure size 432x288 with 1 Axes>"
      ]
     },
     "metadata": {
      "needs_background": "light"
     },
     "output_type": "display_data"
    }
   ],
   "source": [
    "showAccAndLoss(history)"
   ]
  },
  {
   "cell_type": "markdown",
   "id": "6c64ed65",
   "metadata": {},
   "source": [
    "# Öneğitimli CNN modellerinin Kullanımı"
   ]
  },
  {
   "cell_type": "code",
   "execution_count": 38,
   "id": "ccb8beef",
   "metadata": {},
   "outputs": [],
   "source": [
    "# Kullanılacak VGG16 modeli için gerekli kütüphanenin import edilmesi,\n",
    "# \"imagenet\"teki ağırlıklara göre oluşturulması ve modelin incelemesi\n",
    "from keras.applications import VGG16"
   ]
  },
  {
   "cell_type": "code",
   "execution_count": 39,
   "id": "3af96a9f",
   "metadata": {},
   "outputs": [
    {
     "name": "stdout",
     "output_type": "stream",
     "text": [
      "Downloading data from https://github.com/fchollet/deep-learning-models/releases/download/v0.1/vgg16_weights_tf_dim_ordering_tf_kernels_notop.h5\n",
      "58892288/58889256 [==============================] - 9s 0us/step\n"
     ]
    }
   ],
   "source": [
    "conv_base = VGG16(weights='imagenet',\n",
    "                  include_top=False,\n",
    "                  input_shape=(150, 150, 3))"
   ]
  },
  {
   "cell_type": "code",
   "execution_count": 40,
   "id": "7e65d71c",
   "metadata": {},
   "outputs": [
    {
     "name": "stdout",
     "output_type": "stream",
     "text": [
      "Model: \"vgg16\"\n",
      "_________________________________________________________________\n",
      "Layer (type)                 Output Shape              Param #   \n",
      "=================================================================\n",
      "input_1 (InputLayer)         (None, 150, 150, 3)       0         \n",
      "_________________________________________________________________\n",
      "block1_conv1 (Conv2D)        (None, 150, 150, 64)      1792      \n",
      "_________________________________________________________________\n",
      "block1_conv2 (Conv2D)        (None, 150, 150, 64)      36928     \n",
      "_________________________________________________________________\n",
      "block1_pool (MaxPooling2D)   (None, 75, 75, 64)        0         \n",
      "_________________________________________________________________\n",
      "block2_conv1 (Conv2D)        (None, 75, 75, 128)       73856     \n",
      "_________________________________________________________________\n",
      "block2_conv2 (Conv2D)        (None, 75, 75, 128)       147584    \n",
      "_________________________________________________________________\n",
      "block2_pool (MaxPooling2D)   (None, 37, 37, 128)       0         \n",
      "_________________________________________________________________\n",
      "block3_conv1 (Conv2D)        (None, 37, 37, 256)       295168    \n",
      "_________________________________________________________________\n",
      "block3_conv2 (Conv2D)        (None, 37, 37, 256)       590080    \n",
      "_________________________________________________________________\n",
      "block3_conv3 (Conv2D)        (None, 37, 37, 256)       590080    \n",
      "_________________________________________________________________\n",
      "block3_pool (MaxPooling2D)   (None, 18, 18, 256)       0         \n",
      "_________________________________________________________________\n",
      "block4_conv1 (Conv2D)        (None, 18, 18, 512)       1180160   \n",
      "_________________________________________________________________\n",
      "block4_conv2 (Conv2D)        (None, 18, 18, 512)       2359808   \n",
      "_________________________________________________________________\n",
      "block4_conv3 (Conv2D)        (None, 18, 18, 512)       2359808   \n",
      "_________________________________________________________________\n",
      "block4_pool (MaxPooling2D)   (None, 9, 9, 512)         0         \n",
      "_________________________________________________________________\n",
      "block5_conv1 (Conv2D)        (None, 9, 9, 512)         2359808   \n",
      "_________________________________________________________________\n",
      "block5_conv2 (Conv2D)        (None, 9, 9, 512)         2359808   \n",
      "_________________________________________________________________\n",
      "block5_conv3 (Conv2D)        (None, 9, 9, 512)         2359808   \n",
      "_________________________________________________________________\n",
      "block5_pool (MaxPooling2D)   (None, 4, 4, 512)         0         \n",
      "=================================================================\n",
      "Total params: 14,714,688\n",
      "Trainable params: 14,714,688\n",
      "Non-trainable params: 0\n",
      "_________________________________________________________________\n"
     ]
    }
   ],
   "source": [
    "conv_base.summary()"
   ]
  },
  {
   "cell_type": "markdown",
   "id": "ba1aaa46",
   "metadata": {},
   "source": [
    "# Hızlı Yöntem - Dataset Çeşitlendirme Olmadan Öznitelik Çıkarımı"
   ]
  },
  {
   "cell_type": "code",
   "execution_count": 41,
   "id": "aa0890c9",
   "metadata": {},
   "outputs": [],
   "source": [
    "# Numpy array'leri ile çalışabilmek için gerekli kütüphanelerin import edilmesi\n",
    "import numpy as np"
   ]
  },
  {
   "cell_type": "code",
   "execution_count": 42,
   "id": "3d17b718",
   "metadata": {},
   "outputs": [],
   "source": [
    "datagen = ImageDataGenerator(rescale=1./255)\n",
    "batch_size = 20"
   ]
  },
  {
   "cell_type": "code",
   "execution_count": 43,
   "id": "2a435413",
   "metadata": {},
   "outputs": [],
   "source": [
    "# VGG16 modelini kullanarak öznitelik çıkarımı yapan fonksiyon\n",
    "# (Verilen dizinden istediğin uzunlukta)\n",
    "def extract_features(directory, sample_count):\n",
    "    \n",
    "    features = np.zeros(shape=(sample_count, 4 , 4, 512))\n",
    "    labels = np.zeros(shape=(sample_count))\n",
    "    \n",
    "    generator = datagen.flow_from_directory(\n",
    "        directory,\n",
    "        target_size=(150, 150),\n",
    "        batch_size=batch_size,\n",
    "        class_mode='binary')\n",
    "    \n",
    "    i=0\n",
    "    \n",
    "    for inputs_batch, labels_batch in generator:\n",
    "        \n",
    "        features_batch = conv_base.predict(inputs_batch)\n",
    "        features[i * batch_size : (i + 1) * batch_size] = features_batch\n",
    "        labels[i * batch_size : (i + 1) * batch_size] = labels_batch\n",
    "        \n",
    "        i += 1\n",
    "        \n",
    "        if i * batch_size >= sample_count:\n",
    "            break\n",
    "    \n",
    "    return features, labels"
   ]
  },
  {
   "cell_type": "code",
   "execution_count": 44,
   "id": "5fbe2011",
   "metadata": {},
   "outputs": [
    {
     "name": "stdout",
     "output_type": "stream",
     "text": [
      "Found 2000 images belonging to 2 classes.\n"
     ]
    }
   ],
   "source": [
    "# train, validation ve test verilerinin öznitelik çıkarımının yapılması ve Flatten işleminin uygulanması\n",
    "train_features, train_labels = extract_features(train_dir, 2000)"
   ]
  },
  {
   "cell_type": "code",
   "execution_count": 45,
   "id": "a0078af0",
   "metadata": {},
   "outputs": [
    {
     "name": "stdout",
     "output_type": "stream",
     "text": [
      "Found 1000 images belonging to 2 classes.\n"
     ]
    }
   ],
   "source": [
    "validation_features, validation_labels = extract_features(validation_dir, 1000)"
   ]
  },
  {
   "cell_type": "code",
   "execution_count": 46,
   "id": "ff515796",
   "metadata": {},
   "outputs": [
    {
     "name": "stdout",
     "output_type": "stream",
     "text": [
      "Found 1000 images belonging to 2 classes.\n"
     ]
    }
   ],
   "source": [
    "test_features, test_labels = extract_features(test_dir, 1000)"
   ]
  },
  {
   "cell_type": "code",
   "execution_count": 47,
   "id": "b4332bd8",
   "metadata": {},
   "outputs": [],
   "source": [
    "train_features = np.reshape(train_features, (2000, 4 * 4 * 512))"
   ]
  },
  {
   "cell_type": "code",
   "execution_count": 48,
   "id": "2d41d5e6",
   "metadata": {},
   "outputs": [],
   "source": [
    "validation_features = np.reshape(validation_features, (1000, 4 * 4 * 512))"
   ]
  },
  {
   "cell_type": "code",
   "execution_count": 49,
   "id": "9dc1cc0d",
   "metadata": {},
   "outputs": [],
   "source": [
    "test_features = np.reshape(test_features, (1000, 4 * 4 * 512))"
   ]
  },
  {
   "cell_type": "code",
   "execution_count": 50,
   "id": "f03ca6c5",
   "metadata": {},
   "outputs": [],
   "source": [
    "# VGG16'den geçen verilerin eğitileceği model\n",
    "def MyModel3():\n",
    "    model = models.Sequential()\n",
    "    \n",
    "    model.add(layers.Dense(256, activation='relu', input_dim=4 * 4 * 512))\n",
    "    model.add(layers.Dropout(0.5))\n",
    "    model.add(layers.Dense(1, activation='sigmoid'))\n",
    "    \n",
    "    return model"
   ]
  },
  {
   "cell_type": "code",
   "execution_count": 51,
   "id": "3545fbbe",
   "metadata": {},
   "outputs": [],
   "source": [
    "model = MyModel3()"
   ]
  },
  {
   "cell_type": "code",
   "execution_count": 52,
   "id": "46784187",
   "metadata": {},
   "outputs": [],
   "source": [
    "model.compile(\n",
    "    loss='binary_crossentropy',\n",
    "    optimizer=optimizers.RMSprop(lr=2e-5),\n",
    "    metrics=['acc'])"
   ]
  },
  {
   "cell_type": "markdown",
   "id": "8cf9a7ee",
   "metadata": {},
   "source": [
    "# Eğitme ve Başarımı Değerlendirme 3"
   ]
  },
  {
   "cell_type": "code",
   "execution_count": 53,
   "id": "773652a2",
   "metadata": {
    "scrolled": true
   },
   "outputs": [
    {
     "name": "stdout",
     "output_type": "stream",
     "text": [
      "Train on 2000 samples, validate on 1000 samples\n",
      "Epoch 1/30\n",
      "2000/2000 [==============================] - 1s 404us/step - loss: 0.6012 - acc: 0.6705 - val_loss: 0.4337 - val_acc: 0.8450\n",
      "Epoch 2/30\n",
      "2000/2000 [==============================] - 0s 235us/step - loss: 0.4203 - acc: 0.8035 - val_loss: 0.3506 - val_acc: 0.8660\n",
      "Epoch 3/30\n",
      "2000/2000 [==============================] - 0s 241us/step - loss: 0.3502 - acc: 0.8455 - val_loss: 0.3143 - val_acc: 0.8820\n",
      "Epoch 4/30\n",
      "2000/2000 [==============================] - 0s 244us/step - loss: 0.3070 - acc: 0.8735 - val_loss: 0.2947 - val_acc: 0.8870\n",
      "Epoch 5/30\n",
      "2000/2000 [==============================] - 1s 255us/step - loss: 0.2772 - acc: 0.8920 - val_loss: 0.2878 - val_acc: 0.8820\n",
      "Epoch 6/30\n",
      "2000/2000 [==============================] - 0s 225us/step - loss: 0.2570 - acc: 0.8955 - val_loss: 0.2866 - val_acc: 0.8760\n",
      "Epoch 7/30\n",
      "2000/2000 [==============================] - 0s 235us/step - loss: 0.2406 - acc: 0.9055 - val_loss: 0.2601 - val_acc: 0.8960\n",
      "Epoch 8/30\n",
      "2000/2000 [==============================] - 0s 229us/step - loss: 0.2312 - acc: 0.9110 - val_loss: 0.2542 - val_acc: 0.8940\n",
      "Epoch 9/30\n",
      "2000/2000 [==============================] - 0s 234us/step - loss: 0.2151 - acc: 0.9185 - val_loss: 0.2528 - val_acc: 0.9060\n",
      "Epoch 10/30\n",
      "2000/2000 [==============================] - 0s 248us/step - loss: 0.1982 - acc: 0.9260 - val_loss: 0.2456 - val_acc: 0.9030\n",
      "Epoch 11/30\n",
      "2000/2000 [==============================] - 0s 239us/step - loss: 0.1898 - acc: 0.9335 - val_loss: 0.2436 - val_acc: 0.8980\n",
      "Epoch 12/30\n",
      "2000/2000 [==============================] - 0s 237us/step - loss: 0.1859 - acc: 0.9335 - val_loss: 0.2425 - val_acc: 0.9040\n",
      "Epoch 13/30\n",
      "2000/2000 [==============================] - 0s 241us/step - loss: 0.1737 - acc: 0.9385 - val_loss: 0.2402 - val_acc: 0.9080\n",
      "Epoch 14/30\n",
      "2000/2000 [==============================] - 1s 252us/step - loss: 0.1656 - acc: 0.9425 - val_loss: 0.2392 - val_acc: 0.9070\n",
      "Epoch 15/30\n",
      "2000/2000 [==============================] - 0s 249us/step - loss: 0.1600 - acc: 0.9450 - val_loss: 0.2372 - val_acc: 0.9100\n",
      "Epoch 16/30\n",
      "2000/2000 [==============================] - 1s 254us/step - loss: 0.1498 - acc: 0.9505 - val_loss: 0.2364 - val_acc: 0.9050\n",
      "Epoch 17/30\n",
      "2000/2000 [==============================] - 1s 267us/step - loss: 0.1463 - acc: 0.9490 - val_loss: 0.2344 - val_acc: 0.9060\n",
      "Epoch 18/30\n",
      "2000/2000 [==============================] - 0s 249us/step - loss: 0.1407 - acc: 0.9510 - val_loss: 0.2415 - val_acc: 0.9060\n",
      "Epoch 19/30\n",
      "2000/2000 [==============================] - 0s 242us/step - loss: 0.1329 - acc: 0.9560 - val_loss: 0.2352 - val_acc: 0.9040\n",
      "Epoch 20/30\n",
      "2000/2000 [==============================] - 1s 250us/step - loss: 0.1279 - acc: 0.9590 - val_loss: 0.2448 - val_acc: 0.9040\n",
      "Epoch 21/30\n",
      "2000/2000 [==============================] - 1s 262us/step - loss: 0.1235 - acc: 0.9615 - val_loss: 0.2332 - val_acc: 0.9110\n",
      "Epoch 22/30\n",
      "2000/2000 [==============================] - 1s 254us/step - loss: 0.1174 - acc: 0.9600 - val_loss: 0.2350 - val_acc: 0.9050\n",
      "Epoch 23/30\n",
      "2000/2000 [==============================] - 1s 258us/step - loss: 0.1160 - acc: 0.9615 - val_loss: 0.2369 - val_acc: 0.9050\n",
      "Epoch 24/30\n",
      "2000/2000 [==============================] - 1s 266us/step - loss: 0.1122 - acc: 0.9640 - val_loss: 0.2409 - val_acc: 0.9040\n",
      "Epoch 25/30\n",
      "2000/2000 [==============================] - 1s 257us/step - loss: 0.1060 - acc: 0.9645 - val_loss: 0.2348 - val_acc: 0.9090\n",
      "Epoch 26/30\n",
      "2000/2000 [==============================] - 1s 255us/step - loss: 0.1035 - acc: 0.9655 - val_loss: 0.2365 - val_acc: 0.9050\n",
      "Epoch 27/30\n",
      "2000/2000 [==============================] - 1s 255us/step - loss: 0.0975 - acc: 0.9670 - val_loss: 0.2364 - val_acc: 0.9080\n",
      "Epoch 28/30\n",
      "2000/2000 [==============================] - 1s 257us/step - loss: 0.0981 - acc: 0.9700 - val_loss: 0.2408 - val_acc: 0.9040\n",
      "Epoch 29/30\n",
      "2000/2000 [==============================] - 0s 249us/step - loss: 0.0922 - acc: 0.9705 - val_loss: 0.2453 - val_acc: 0.9030\n",
      "Epoch 30/30\n",
      "2000/2000 [==============================] - 0s 241us/step - loss: 0.0881 - acc: 0.9740 - val_loss: 0.2382 - val_acc: 0.9070\n"
     ]
    }
   ],
   "source": [
    "# Dataset çeşitlendirmesiz VGG16'lı model'in eğitilmesi\n",
    "history = model.fit(\n",
    "    train_features,\n",
    "    train_labels,\n",
    "    epochs=30,\n",
    "    batch_size=20,\n",
    "    validation_data=(validation_features, validation_labels))"
   ]
  },
  {
   "cell_type": "code",
   "execution_count": 54,
   "id": "8d44c70e",
   "metadata": {},
   "outputs": [
    {
     "data": {
      "image/png": "[encoded data removed]",
      "text/plain": [
       "<Figure size 432x288 with 1 Axes>"
      ]
     },
     "metadata": {
      "needs_background": "light"
     },
     "output_type": "display_data"
    },
    {
     "data": {
      "image/png": "[encoded data removed]",
      "text/plain": [
       "<Figure size 432x288 with 1 Axes>"
      ]
     },
     "metadata": {
      "needs_background": "light"
     },
     "output_type": "display_data"
    }
   ],
   "source": [
    "showAccAndLoss(history)"
   ]
  },
  {
   "cell_type": "markdown",
   "id": "46eebfa0",
   "metadata": {},
   "source": [
    "# Maliyetli Yöntem - Dataset Çeşitlendirerek Öznitelik Çıkarımı"
   ]
  },
  {
   "cell_type": "code",
   "execution_count": 55,
   "id": "42ba9807",
   "metadata": {},
   "outputs": [],
   "source": [
    "# conv_base'in (VGG16) direk ekli olduğu yeni model\n",
    "def MyModel4():\n",
    "    model = models.Sequential()\n",
    "    \n",
    "    model.add(conv_base)\n",
    "    model.add(layers.Flatten())\n",
    "    model.add(layers.Dense(256, activation='relu'))\n",
    "    model.add(layers.Dense(1, activation='sigmoid'))\n",
    "    \n",
    "    return model"
   ]
  },
  {
   "cell_type": "code",
   "execution_count": 56,
   "id": "ea1aace6",
   "metadata": {},
   "outputs": [],
   "source": [
    "model = MyModel4()"
   ]
  },
  {
   "cell_type": "code",
   "execution_count": 57,
   "id": "3e09e5d9",
   "metadata": {},
   "outputs": [
    {
     "name": "stdout",
     "output_type": "stream",
     "text": [
      "Model: \"sequential_4\"\n",
      "_________________________________________________________________\n",
      "Layer (type)                 Output Shape              Param #   \n",
      "=================================================================\n",
      "vgg16 (Model)                (None, 4, 4, 512)         14714688  \n",
      "_________________________________________________________________\n",
      "flatten_3 (Flatten)          (None, 8192)              0         \n",
      "_________________________________________________________________\n",
      "dense_7 (Dense)              (None, 256)               2097408   \n",
      "_________________________________________________________________\n",
      "dense_8 (Dense)              (None, 1)                 257       \n",
      "=================================================================\n",
      "Total params: 16,812,353\n",
      "Trainable params: 16,812,353\n",
      "Non-trainable params: 0\n",
      "_________________________________________________________________\n"
     ]
    }
   ],
   "source": [
    "model.summary()"
   ]
  },
  {
   "cell_type": "code",
   "execution_count": 58,
   "id": "00c66424",
   "metadata": {},
   "outputs": [
    {
     "name": "stdout",
     "output_type": "stream",
     "text": [
      "conv_base dondurulmadan önce öğrenen ağırlık sayısı:  30\n"
     ]
    }
   ],
   "source": [
    "# Eğitim sırasında conv_base'in ağırlıklarının bozulmaması için trainable'ın dondurulması\n",
    "print('conv_base dondurulmadan önce öğrenen ağırlık sayısı: ', len(model.trainable_weights))"
   ]
  },
  {
   "cell_type": "code",
   "execution_count": 59,
   "id": "ea253ed3",
   "metadata": {},
   "outputs": [],
   "source": [
    "conv_base.trainable = False"
   ]
  },
  {
   "cell_type": "code",
   "execution_count": 60,
   "id": "0bbe397e",
   "metadata": {},
   "outputs": [
    {
     "name": "stdout",
     "output_type": "stream",
     "text": [
      "conv_base dondurulduktan sonra öğrenen ağırlık sayısı:  4\n"
     ]
    }
   ],
   "source": [
    "print('conv_base dondurulduktan sonra öğrenen ağırlık sayısı: ', len(model.trainable_weights))"
   ]
  },
  {
   "cell_type": "code",
   "execution_count": 61,
   "id": "e7aea772",
   "metadata": {},
   "outputs": [],
   "source": [
    "train_datagen = ImageDataGenerator(\n",
    "    rescale=1./255,\n",
    "    rotation_range=40,\n",
    "    width_shift_range=0.2,\n",
    "    height_shift_range=0.2,\n",
    "    shear_range=0.2,\n",
    "    zoom_range=0.2,\n",
    "    horizontal_flip=True,\n",
    "    fill_mode='nearest')"
   ]
  },
  {
   "cell_type": "code",
   "execution_count": 62,
   "id": "89459ea7",
   "metadata": {},
   "outputs": [],
   "source": [
    "validation_datagen = ImageDataGenerator(rescale=1./255)"
   ]
  },
  {
   "cell_type": "code",
   "execution_count": 74,
   "id": "e064983e",
   "metadata": {},
   "outputs": [
    {
     "name": "stdout",
     "output_type": "stream",
     "text": [
      "Found 2000 images belonging to 2 classes.\n"
     ]
    }
   ],
   "source": [
    "train_generator = train_datagen.flow_from_directory(\n",
    "    train_dir,\n",
    "    target_size=(150, 150),\n",
    "    batch_size=20,\n",
    "    class_mode='binary')"
   ]
  },
  {
   "cell_type": "code",
   "execution_count": 64,
   "id": "984071ad",
   "metadata": {},
   "outputs": [
    {
     "name": "stdout",
     "output_type": "stream",
     "text": [
      "Found 1000 images belonging to 2 classes.\n"
     ]
    }
   ],
   "source": [
    "validation_generator = validation_datagen.flow_from_directory(\n",
    "    validation_dir,\n",
    "    target_size=(150, 150),\n",
    "    batch_size=20,\n",
    "    class_mode='binary')"
   ]
  },
  {
   "cell_type": "code",
   "execution_count": 65,
   "id": "7179a924",
   "metadata": {},
   "outputs": [],
   "source": [
    "model.compile(\n",
    "    loss='binary_crossentropy',\n",
    "    optimizer=optimizers.RMSprop(lr=2e-5),\n",
    "    metrics=['acc'])"
   ]
  },
  {
   "cell_type": "markdown",
   "id": "fb812af7",
   "metadata": {},
   "source": [
    "# Eğitme ve Başarımı Değerlendirme 4 - 1"
   ]
  },
  {
   "cell_type": "code",
   "execution_count": 66,
   "id": "4abdb1e8",
   "metadata": {
    "scrolled": true
   },
   "outputs": [
    {
     "name": "stdout",
     "output_type": "stream",
     "text": [
      "Epoch 1/30\n",
      "100/100 [==============================] - 21s 210ms/step - loss: 0.5807 - acc: 0.7115 - val_loss: 0.5568 - val_acc: 0.7930\n",
      "Epoch 2/30\n",
      "100/100 [==============================] - 14s 136ms/step - loss: 0.4797 - acc: 0.7925 - val_loss: 0.4615 - val_acc: 0.8540\n",
      "Epoch 3/30\n",
      "100/100 [==============================] - 14s 136ms/step - loss: 0.4224 - acc: 0.8120 - val_loss: 0.3761 - val_acc: 0.8790\n",
      "Epoch 4/30\n",
      "100/100 [==============================] - 14s 137ms/step - loss: 0.3966 - acc: 0.8280 - val_loss: 0.3271 - val_acc: 0.8540\n",
      "Epoch 5/30\n",
      "100/100 [==============================] - 14s 137ms/step - loss: 0.3744 - acc: 0.8400 - val_loss: 0.2394 - val_acc: 0.8880\n",
      "Epoch 6/30\n",
      "100/100 [==============================] - 14s 137ms/step - loss: 0.3511 - acc: 0.8495 - val_loss: 0.3397 - val_acc: 0.8880\n",
      "Epoch 7/30\n",
      "100/100 [==============================] - 14s 137ms/step - loss: 0.3643 - acc: 0.8410 - val_loss: 0.5374 - val_acc: 0.8820\n",
      "Epoch 8/30\n",
      "100/100 [==============================] - 14s 137ms/step - loss: 0.3512 - acc: 0.8425 - val_loss: 0.3692 - val_acc: 0.8940\n",
      "Epoch 9/30\n",
      "100/100 [==============================] - 14s 137ms/step - loss: 0.3498 - acc: 0.8455 - val_loss: 0.3259 - val_acc: 0.8930\n",
      "Epoch 10/30\n",
      "100/100 [==============================] - 14s 137ms/step - loss: 0.3358 - acc: 0.8580 - val_loss: 0.2783 - val_acc: 0.8950\n",
      "Epoch 11/30\n",
      "100/100 [==============================] - 14s 137ms/step - loss: 0.3257 - acc: 0.8575 - val_loss: 0.2007 - val_acc: 0.8970\n",
      "Epoch 12/30\n",
      "100/100 [==============================] - 14s 137ms/step - loss: 0.3112 - acc: 0.8710 - val_loss: 0.3139 - val_acc: 0.8990\n",
      "Epoch 13/30\n",
      "100/100 [==============================] - 14s 138ms/step - loss: 0.3174 - acc: 0.8630 - val_loss: 0.1415 - val_acc: 0.9020\n",
      "Epoch 14/30\n",
      "100/100 [==============================] - 14s 138ms/step - loss: 0.3330 - acc: 0.8525 - val_loss: 0.1933 - val_acc: 0.9040\n",
      "Epoch 15/30\n",
      "100/100 [==============================] - 14s 138ms/step - loss: 0.3159 - acc: 0.8635 - val_loss: 0.1972 - val_acc: 0.8990\n",
      "Epoch 16/30\n",
      "100/100 [==============================] - 14s 138ms/step - loss: 0.3211 - acc: 0.8680 - val_loss: 0.2495 - val_acc: 0.8990\n",
      "Epoch 17/30\n",
      "100/100 [==============================] - 14s 138ms/step - loss: 0.2986 - acc: 0.8740 - val_loss: 0.3890 - val_acc: 0.9010\n",
      "Epoch 18/30\n",
      "100/100 [==============================] - 14s 138ms/step - loss: 0.3081 - acc: 0.8705 - val_loss: 0.5542 - val_acc: 0.8980\n",
      "Epoch 19/30\n",
      "100/100 [==============================] - 14s 138ms/step - loss: 0.3014 - acc: 0.8665 - val_loss: 0.2295 - val_acc: 0.9040\n",
      "Epoch 20/30\n",
      "100/100 [==============================] - 14s 138ms/step - loss: 0.3049 - acc: 0.8700 - val_loss: 0.1566 - val_acc: 0.9010\n",
      "Epoch 21/30\n",
      "100/100 [==============================] - 14s 138ms/step - loss: 0.2963 - acc: 0.8705 - val_loss: 0.1143 - val_acc: 0.9020\n",
      "Epoch 22/30\n",
      "100/100 [==============================] - 14s 138ms/step - loss: 0.2993 - acc: 0.8690 - val_loss: 0.5345 - val_acc: 0.9050\n",
      "Epoch 23/30\n",
      "100/100 [==============================] - 14s 138ms/step - loss: 0.3037 - acc: 0.8715 - val_loss: 0.1351 - val_acc: 0.9040\n",
      "Epoch 24/30\n",
      "100/100 [==============================] - 14s 138ms/step - loss: 0.2979 - acc: 0.8670 - val_loss: 0.1686 - val_acc: 0.9010\n",
      "Epoch 25/30\n",
      "100/100 [==============================] - 14s 138ms/step - loss: 0.2968 - acc: 0.8700 - val_loss: 0.1269 - val_acc: 0.9050\n",
      "Epoch 26/30\n",
      "100/100 [==============================] - 14s 138ms/step - loss: 0.2914 - acc: 0.8780 - val_loss: 0.0826 - val_acc: 0.9090\n",
      "Epoch 27/30\n",
      "100/100 [==============================] - 14s 138ms/step - loss: 0.2871 - acc: 0.8770 - val_loss: 0.1219 - val_acc: 0.9070\n",
      "Epoch 28/30\n",
      "100/100 [==============================] - 14s 138ms/step - loss: 0.2909 - acc: 0.8800 - val_loss: 0.1547 - val_acc: 0.9080\n",
      "Epoch 29/30\n",
      "100/100 [==============================] - 14s 138ms/step - loss: 0.2868 - acc: 0.8745 - val_loss: 0.1998 - val_acc: 0.9020\n",
      "Epoch 30/30\n",
      "100/100 [==============================] - 14s 138ms/step - loss: 0.2699 - acc: 0.8790 - val_loss: 0.0712 - val_acc: 0.9010\n"
     ]
    }
   ],
   "source": [
    "# Model ilk önce eğitimden geçirilerek eğitimsiz katmanların ağırlıklarının oluşması (30 epoch)\n",
    "# (Daha sonra hassas ayar yapılacak...)\n",
    "history = model.fit_generator(\n",
    "      train_generator,\n",
    "      steps_per_epoch=100,\n",
    "      epochs=30,\n",
    "      validation_data=validation_generator,\n",
    "      validation_steps=50)"
   ]
  },
  {
   "cell_type": "code",
   "execution_count": 67,
   "id": "7feeb830",
   "metadata": {},
   "outputs": [
    {
     "data": {
      "image/png": "[encoded data removed]",
      "text/plain": [
       "<Figure size 432x288 with 1 Axes>"
      ]
     },
     "metadata": {
      "needs_background": "light"
     },
     "output_type": "display_data"
    },
    {
     "data": {
      "image/png": "[encoded data removed]",
      "text/plain": [
       "<Figure size 432x288 with 1 Axes>"
      ]
     },
     "metadata": {
      "needs_background": "light"
     },
     "output_type": "display_data"
    }
   ],
   "source": [
    "showAccAndLoss(history)"
   ]
  },
  {
   "cell_type": "markdown",
   "id": "87b5fbb6",
   "metadata": {},
   "source": [
    "# Model'e Hassas Ayar Yapımı"
   ]
  },
  {
   "cell_type": "code",
   "execution_count": 68,
   "id": "a3f3f19e",
   "metadata": {},
   "outputs": [],
   "source": [
    "# conv_base'te, dataset'e özgü niteliklerin özelleşmesi için en üst katmanların\n",
    "# trainable'ının aktif hale getirilmesi (hassas ayar)\n",
    "conv_base.trainable = True\n",
    "set_trainable = False\n",
    "\n",
    "for layer in conv_base.layers:\n",
    "    if layer.name == 'block5_conv1':\n",
    "        set_trainable = True\n",
    "    if set_trainable:\n",
    "        layer.trainable = True\n",
    "    else:\n",
    "        layer.trainable = False"
   ]
  },
  {
   "cell_type": "code",
   "execution_count": 69,
   "id": "7d0e6370",
   "metadata": {},
   "outputs": [],
   "source": [
    "# Güncellenen model'in tekrar compile edilmesi\n",
    "model.compile(\n",
    "    loss='binary_crossentropy',\n",
    "    optimizer=optimizers.RMSprop(lr=1e-5),\n",
    "    metrics=['acc'])"
   ]
  },
  {
   "cell_type": "markdown",
   "id": "708877de",
   "metadata": {},
   "source": [
    "# Eğitme ve Başarımı Değerlendirme 4 - 2"
   ]
  },
  {
   "cell_type": "code",
   "execution_count": 70,
   "id": "a004ef78",
   "metadata": {},
   "outputs": [
    {
     "name": "stdout",
     "output_type": "stream",
     "text": [
      "Epoch 1/100\n",
      "100/100 [==============================] - 17s 165ms/step - loss: 0.2894 - acc: 0.8715 - val_loss: 0.1327 - val_acc: 0.9040\n",
      "Epoch 2/100\n",
      "100/100 [==============================] - 16s 159ms/step - loss: 0.2694 - acc: 0.8820 - val_loss: 0.2223 - val_acc: 0.9160\n",
      "Epoch 3/100\n",
      "100/100 [==============================] - 16s 160ms/step - loss: 0.2443 - acc: 0.8870 - val_loss: 0.1474 - val_acc: 0.9120\n",
      "Epoch 4/100\n",
      "100/100 [==============================] - 16s 160ms/step - loss: 0.2377 - acc: 0.9020 - val_loss: 0.1399 - val_acc: 0.9290\n",
      "Epoch 5/100\n",
      "100/100 [==============================] - 16s 160ms/step - loss: 0.2085 - acc: 0.9145 - val_loss: 0.2018 - val_acc: 0.9310\n",
      "Epoch 6/100\n",
      "100/100 [==============================] - 16s 160ms/step - loss: 0.1918 - acc: 0.9290 - val_loss: 0.4210 - val_acc: 0.9170\n",
      "Epoch 7/100\n",
      "100/100 [==============================] - 16s 160ms/step - loss: 0.1702 - acc: 0.9285 - val_loss: 0.1311 - val_acc: 0.9270\n",
      "Epoch 8/100\n",
      "100/100 [==============================] - 16s 160ms/step - loss: 0.1629 - acc: 0.9360 - val_loss: 0.0371 - val_acc: 0.9220\n",
      "Epoch 9/100\n",
      "100/100 [==============================] - 16s 160ms/step - loss: 0.1695 - acc: 0.9360 - val_loss: 0.0951 - val_acc: 0.9340\n",
      "Epoch 10/100\n",
      "100/100 [==============================] - 16s 160ms/step - loss: 0.1553 - acc: 0.9390 - val_loss: 0.2647 - val_acc: 0.9280\n",
      "Epoch 11/100\n",
      "100/100 [==============================] - 16s 160ms/step - loss: 0.1550 - acc: 0.9390 - val_loss: 0.0262 - val_acc: 0.9400\n",
      "Epoch 12/100\n",
      "100/100 [==============================] - 16s 160ms/step - loss: 0.1336 - acc: 0.9460 - val_loss: 0.2065 - val_acc: 0.9260\n",
      "Epoch 13/100\n",
      "100/100 [==============================] - 16s 161ms/step - loss: 0.1136 - acc: 0.9550 - val_loss: 0.0066 - val_acc: 0.9320\n",
      "Epoch 14/100\n",
      "100/100 [==============================] - 16s 161ms/step - loss: 0.1334 - acc: 0.9470 - val_loss: 0.6960 - val_acc: 0.9350\n",
      "Epoch 15/100\n",
      "100/100 [==============================] - 16s 161ms/step - loss: 0.1344 - acc: 0.9485 - val_loss: 0.0198 - val_acc: 0.9330\n",
      "Epoch 16/100\n",
      "100/100 [==============================] - 16s 161ms/step - loss: 0.1175 - acc: 0.9500 - val_loss: 0.5263 - val_acc: 0.9420\n",
      "Epoch 17/100\n",
      "100/100 [==============================] - 16s 161ms/step - loss: 0.1184 - acc: 0.9550 - val_loss: 0.0869 - val_acc: 0.9370\n",
      "Epoch 18/100\n",
      "100/100 [==============================] - 16s 161ms/step - loss: 0.1060 - acc: 0.9550 - val_loss: 0.0545 - val_acc: 0.9320\n",
      "Epoch 19/100\n",
      "100/100 [==============================] - 16s 161ms/step - loss: 0.0909 - acc: 0.9680 - val_loss: 0.4279 - val_acc: 0.9240\n",
      "Epoch 20/100\n",
      "100/100 [==============================] - 16s 161ms/step - loss: 0.0895 - acc: 0.9635 - val_loss: 0.0768 - val_acc: 0.9340\n",
      "Epoch 21/100\n",
      "100/100 [==============================] - 16s 161ms/step - loss: 0.0895 - acc: 0.9640 - val_loss: 0.3734 - val_acc: 0.9360\n",
      "Epoch 22/100\n",
      "100/100 [==============================] - 16s 161ms/step - loss: 0.0865 - acc: 0.9685 - val_loss: 0.8051 - val_acc: 0.9030\n",
      "Epoch 23/100\n",
      "100/100 [==============================] - 16s 161ms/step - loss: 0.0864 - acc: 0.9665 - val_loss: 0.3107 - val_acc: 0.9260\n",
      "Epoch 24/100\n",
      "100/100 [==============================] - 16s 161ms/step - loss: 0.0808 - acc: 0.9705 - val_loss: 0.4691 - val_acc: 0.8800\n",
      "Epoch 25/100\n",
      "100/100 [==============================] - 16s 161ms/step - loss: 0.0902 - acc: 0.9665 - val_loss: 0.0283 - val_acc: 0.9420\n",
      "Epoch 26/100\n",
      "100/100 [==============================] - 16s 161ms/step - loss: 0.0763 - acc: 0.9695 - val_loss: 0.2071 - val_acc: 0.9360\n",
      "Epoch 27/100\n",
      "100/100 [==============================] - 16s 161ms/step - loss: 0.0728 - acc: 0.9740 - val_loss: 0.4447 - val_acc: 0.9350\n",
      "Epoch 28/100\n",
      "100/100 [==============================] - 16s 161ms/step - loss: 0.0731 - acc: 0.9715 - val_loss: 0.5470 - val_acc: 0.9390\n",
      "Epoch 29/100\n",
      "100/100 [==============================] - 16s 161ms/step - loss: 0.0664 - acc: 0.9755 - val_loss: 1.0155 - val_acc: 0.9360\n",
      "Epoch 30/100\n",
      "100/100 [==============================] - 16s 161ms/step - loss: 0.0649 - acc: 0.9795 - val_loss: 0.0412 - val_acc: 0.9380\n",
      "Epoch 31/100\n",
      "100/100 [==============================] - 16s 161ms/step - loss: 0.0749 - acc: 0.9680 - val_loss: 0.1049 - val_acc: 0.9510\n",
      "Epoch 32/100\n",
      "100/100 [==============================] - 16s 161ms/step - loss: 0.0656 - acc: 0.9755 - val_loss: 0.2296 - val_acc: 0.9250\n",
      "Epoch 33/100\n",
      "100/100 [==============================] - 16s 161ms/step - loss: 0.0557 - acc: 0.9785 - val_loss: 0.2055 - val_acc: 0.9380\n",
      "Epoch 34/100\n",
      "100/100 [==============================] - 16s 161ms/step - loss: 0.0543 - acc: 0.9800 - val_loss: 0.0267 - val_acc: 0.9410\n",
      "Epoch 35/100\n",
      "100/100 [==============================] - 16s 161ms/step - loss: 0.0628 - acc: 0.9785 - val_loss: 0.0632 - val_acc: 0.9360\n",
      "Epoch 36/100\n",
      "100/100 [==============================] - 16s 161ms/step - loss: 0.0594 - acc: 0.9770 - val_loss: 0.3649 - val_acc: 0.9340\n",
      "Epoch 37/100\n",
      "100/100 [==============================] - 16s 161ms/step - loss: 0.0590 - acc: 0.9780 - val_loss: 0.5632 - val_acc: 0.9260\n",
      "Epoch 38/100\n",
      "100/100 [==============================] - 16s 161ms/step - loss: 0.0549 - acc: 0.9810 - val_loss: 0.0657 - val_acc: 0.9040\n",
      "Epoch 39/100\n",
      "100/100 [==============================] - 16s 161ms/step - loss: 0.0480 - acc: 0.9820 - val_loss: 0.0076 - val_acc: 0.9420\n",
      "Epoch 40/100\n",
      "100/100 [==============================] - 16s 161ms/step - loss: 0.0488 - acc: 0.9845 - val_loss: 0.0581 - val_acc: 0.9350\n",
      "Epoch 41/100\n",
      "100/100 [==============================] - 16s 161ms/step - loss: 0.0369 - acc: 0.9875 - val_loss: 0.3935 - val_acc: 0.9370\n",
      "Epoch 42/100\n",
      "100/100 [==============================] - 16s 161ms/step - loss: 0.0525 - acc: 0.9820 - val_loss: 0.0965 - val_acc: 0.9400\n",
      "Epoch 43/100\n",
      "100/100 [==============================] - 16s 161ms/step - loss: 0.0453 - acc: 0.9835 - val_loss: 0.2514 - val_acc: 0.9380\n",
      "Epoch 44/100\n",
      "100/100 [==============================] - 16s 161ms/step - loss: 0.0504 - acc: 0.9820 - val_loss: 6.6987e-04 - val_acc: 0.9330\n",
      "Epoch 45/100\n",
      "100/100 [==============================] - 16s 161ms/step - loss: 0.0538 - acc: 0.9805 - val_loss: 0.3836 - val_acc: 0.9350\n",
      "Epoch 46/100\n",
      "100/100 [==============================] - 16s 161ms/step - loss: 0.0332 - acc: 0.9910 - val_loss: 1.3469e-05 - val_acc: 0.9400\n",
      "Epoch 47/100\n",
      "100/100 [==============================] - 16s 161ms/step - loss: 0.0321 - acc: 0.9890 - val_loss: 0.1836 - val_acc: 0.9280\n",
      "Epoch 48/100\n",
      "100/100 [==============================] - 16s 161ms/step - loss: 0.0421 - acc: 0.9870 - val_loss: 0.1340 - val_acc: 0.9050\n",
      "Epoch 49/100\n",
      "100/100 [==============================] - 16s 161ms/step - loss: 0.0459 - acc: 0.9830 - val_loss: 0.5778 - val_acc: 0.9380\n",
      "Epoch 50/100\n",
      "100/100 [==============================] - 16s 161ms/step - loss: 0.0468 - acc: 0.9825 - val_loss: 0.3547 - val_acc: 0.9230\n",
      "Epoch 51/100\n",
      "100/100 [==============================] - 16s 161ms/step - loss: 0.0308 - acc: 0.9875 - val_loss: 0.6287 - val_acc: 0.9450\n",
      "Epoch 52/100\n",
      "100/100 [==============================] - 16s 161ms/step - loss: 0.0348 - acc: 0.9900 - val_loss: 8.7344e-04 - val_acc: 0.9420\n",
      "Epoch 53/100\n",
      "100/100 [==============================] - 16s 161ms/step - loss: 0.0362 - acc: 0.9895 - val_loss: 0.3778 - val_acc: 0.9370\n",
      "Epoch 54/100\n",
      "100/100 [==============================] - 16s 161ms/step - loss: 0.0338 - acc: 0.9870 - val_loss: 0.3529 - val_acc: 0.9380\n",
      "Epoch 55/100\n",
      "100/100 [==============================] - 16s 161ms/step - loss: 0.0378 - acc: 0.9860 - val_loss: 0.0740 - val_acc: 0.9420\n",
      "Epoch 56/100\n",
      "100/100 [==============================] - 16s 161ms/step - loss: 0.0316 - acc: 0.9870 - val_loss: 0.5609 - val_acc: 0.9390\n",
      "Epoch 57/100\n",
      "100/100 [==============================] - 16s 161ms/step - loss: 0.0306 - acc: 0.9900 - val_loss: 0.4886 - val_acc: 0.9380\n",
      "Epoch 58/100\n",
      "100/100 [==============================] - 16s 161ms/step - loss: 0.0269 - acc: 0.9905 - val_loss: 0.4988 - val_acc: 0.9120\n",
      "Epoch 59/100\n",
      "100/100 [==============================] - 16s 161ms/step - loss: 0.0379 - acc: 0.9850 - val_loss: 0.5048 - val_acc: 0.9320\n",
      "Epoch 60/100\n",
      "100/100 [==============================] - 16s 161ms/step - loss: 0.0310 - acc: 0.9870 - val_loss: 0.2123 - val_acc: 0.9410\n"
     ]
    },
    {
     "name": "stdout",
     "output_type": "stream",
     "text": [
      "Epoch 61/100\n",
      "100/100 [==============================] - 16s 161ms/step - loss: 0.0345 - acc: 0.9860 - val_loss: 0.2587 - val_acc: 0.9350\n",
      "Epoch 62/100\n",
      "100/100 [==============================] - 16s 161ms/step - loss: 0.0285 - acc: 0.9910 - val_loss: 0.0143 - val_acc: 0.9350\n",
      "Epoch 63/100\n",
      "100/100 [==============================] - 16s 161ms/step - loss: 0.0293 - acc: 0.9890 - val_loss: 0.0535 - val_acc: 0.9410\n",
      "Epoch 64/100\n",
      "100/100 [==============================] - 16s 161ms/step - loss: 0.0269 - acc: 0.9910 - val_loss: 0.2778 - val_acc: 0.9400\n",
      "Epoch 65/100\n",
      "100/100 [==============================] - 16s 161ms/step - loss: 0.0268 - acc: 0.9895 - val_loss: 0.0094 - val_acc: 0.9360\n",
      "Epoch 66/100\n",
      "100/100 [==============================] - 16s 161ms/step - loss: 0.0324 - acc: 0.9895 - val_loss: 0.0116 - val_acc: 0.9420\n",
      "Epoch 67/100\n",
      "100/100 [==============================] - 16s 161ms/step - loss: 0.0359 - acc: 0.9885 - val_loss: 0.3723 - val_acc: 0.9370\n",
      "Epoch 68/100\n",
      "100/100 [==============================] - 16s 161ms/step - loss: 0.0194 - acc: 0.9925 - val_loss: 0.2844 - val_acc: 0.9420\n",
      "Epoch 69/100\n",
      "100/100 [==============================] - 16s 161ms/step - loss: 0.0341 - acc: 0.9880 - val_loss: 0.1422 - val_acc: 0.9330\n",
      "Epoch 70/100\n",
      "100/100 [==============================] - 16s 161ms/step - loss: 0.0302 - acc: 0.9885 - val_loss: 0.0151 - val_acc: 0.9390\n",
      "Epoch 71/100\n",
      "100/100 [==============================] - 16s 161ms/step - loss: 0.0289 - acc: 0.9885 - val_loss: 8.5758e-05 - val_acc: 0.9160\n",
      "Epoch 72/100\n",
      "100/100 [==============================] - 16s 161ms/step - loss: 0.0288 - acc: 0.9920 - val_loss: 0.0837 - val_acc: 0.9430\n",
      "Epoch 73/100\n",
      "100/100 [==============================] - 16s 161ms/step - loss: 0.0242 - acc: 0.9925 - val_loss: 0.0501 - val_acc: 0.9430\n",
      "Epoch 74/100\n",
      "100/100 [==============================] - 16s 161ms/step - loss: 0.0183 - acc: 0.9960 - val_loss: 0.0011 - val_acc: 0.9370\n",
      "Epoch 75/100\n",
      "100/100 [==============================] - 16s 161ms/step - loss: 0.0254 - acc: 0.9915 - val_loss: 0.3266 - val_acc: 0.9330\n",
      "Epoch 76/100\n",
      "100/100 [==============================] - 16s 161ms/step - loss: 0.0208 - acc: 0.9925 - val_loss: 0.2086 - val_acc: 0.9390\n",
      "Epoch 77/100\n",
      "100/100 [==============================] - 16s 161ms/step - loss: 0.0264 - acc: 0.9880 - val_loss: 0.0026 - val_acc: 0.9340\n",
      "Epoch 78/100\n",
      "100/100 [==============================] - 16s 161ms/step - loss: 0.0224 - acc: 0.9910 - val_loss: 0.0041 - val_acc: 0.9420\n",
      "Epoch 79/100\n",
      "100/100 [==============================] - 16s 161ms/step - loss: 0.0236 - acc: 0.9915 - val_loss: 0.0054 - val_acc: 0.9360\n",
      "Epoch 80/100\n",
      "100/100 [==============================] - 16s 161ms/step - loss: 0.0183 - acc: 0.9960 - val_loss: 0.0962 - val_acc: 0.9240\n",
      "Epoch 81/100\n",
      "100/100 [==============================] - 16s 161ms/step - loss: 0.0316 - acc: 0.9900 - val_loss: 0.3300 - val_acc: 0.9400\n",
      "Epoch 82/100\n",
      "100/100 [==============================] - 16s 161ms/step - loss: 0.0230 - acc: 0.9920 - val_loss: 0.0794 - val_acc: 0.9420\n",
      "Epoch 83/100\n",
      "100/100 [==============================] - 16s 161ms/step - loss: 0.0240 - acc: 0.9905 - val_loss: 0.0137 - val_acc: 0.9280\n",
      "Epoch 84/100\n",
      "100/100 [==============================] - 16s 161ms/step - loss: 0.0200 - acc: 0.9950 - val_loss: 0.1481 - val_acc: 0.9400\n",
      "Epoch 85/100\n",
      "100/100 [==============================] - 16s 161ms/step - loss: 0.0178 - acc: 0.9925 - val_loss: 0.1863 - val_acc: 0.9420\n",
      "Epoch 86/100\n",
      "100/100 [==============================] - 16s 161ms/step - loss: 0.0147 - acc: 0.9965 - val_loss: 0.5335 - val_acc: 0.9400\n",
      "Epoch 87/100\n",
      "100/100 [==============================] - 16s 161ms/step - loss: 0.0144 - acc: 0.9940 - val_loss: 0.0037 - val_acc: 0.9380\n",
      "Epoch 88/100\n",
      "100/100 [==============================] - 16s 161ms/step - loss: 0.0204 - acc: 0.9945 - val_loss: 0.3177 - val_acc: 0.9360\n",
      "Epoch 89/100\n",
      "100/100 [==============================] - 16s 161ms/step - loss: 0.0233 - acc: 0.9915 - val_loss: 0.0614 - val_acc: 0.9420\n",
      "Epoch 90/100\n",
      "100/100 [==============================] - 16s 161ms/step - loss: 0.0155 - acc: 0.9945 - val_loss: 0.0507 - val_acc: 0.9350\n",
      "Epoch 91/100\n",
      "100/100 [==============================] - 16s 161ms/step - loss: 0.0302 - acc: 0.9895 - val_loss: 0.0780 - val_acc: 0.9460\n",
      "Epoch 92/100\n",
      "100/100 [==============================] - 16s 161ms/step - loss: 0.0236 - acc: 0.9915 - val_loss: 6.0325e-04 - val_acc: 0.9420\n",
      "Epoch 93/100\n",
      "100/100 [==============================] - 16s 161ms/step - loss: 0.0243 - acc: 0.9915 - val_loss: 0.5422 - val_acc: 0.9390\n",
      "Epoch 94/100\n",
      "100/100 [==============================] - 16s 161ms/step - loss: 0.0172 - acc: 0.9940 - val_loss: 0.2520 - val_acc: 0.9350\n",
      "Epoch 95/100\n",
      "100/100 [==============================] - 16s 161ms/step - loss: 0.0204 - acc: 0.9920 - val_loss: 0.0678 - val_acc: 0.9350\n",
      "Epoch 96/100\n",
      "100/100 [==============================] - 16s 161ms/step - loss: 0.0118 - acc: 0.9975 - val_loss: 1.7000 - val_acc: 0.9400\n",
      "Epoch 97/100\n",
      "100/100 [==============================] - 16s 161ms/step - loss: 0.0201 - acc: 0.9945 - val_loss: 1.4508 - val_acc: 0.9410\n",
      "Epoch 98/100\n",
      "100/100 [==============================] - 16s 161ms/step - loss: 0.0247 - acc: 0.9905 - val_loss: 0.0134 - val_acc: 0.9470\n",
      "Epoch 99/100\n",
      "100/100 [==============================] - 16s 161ms/step - loss: 0.0176 - acc: 0.9960 - val_loss: 0.1230 - val_acc: 0.9170\n",
      "Epoch 100/100\n",
      "100/100 [==============================] - 16s 161ms/step - loss: 0.0131 - acc: 0.9960 - val_loss: 0.0459 - val_acc: 0.9440\n"
     ]
    }
   ],
   "source": [
    "# Hassay ayar yapılmış dataset çeşitlendirmeli VGG16'lı modelin eğitilmesi (100 epoch)\n",
    "history = model.fit_generator(\n",
    "      train_generator,\n",
    "      steps_per_epoch=100,\n",
    "      epochs=100,\n",
    "      validation_data=validation_generator,\n",
    "      validation_steps=50)"
   ]
  },
  {
   "cell_type": "code",
   "execution_count": 71,
   "id": "17e8d7af",
   "metadata": {},
   "outputs": [
    {
     "data": {
      "image/png": "[encoded data removed]",
      "text/plain": [
       "<Figure size 432x288 with 1 Axes>"
      ]
     },
     "metadata": {
      "needs_background": "light"
     },
     "output_type": "display_data"
    },
    {
     "data": {
      "image/png": "[encoded data removed]",
      "text/plain": [
       "<Figure size 432x288 with 1 Axes>"
      ]
     },
     "metadata": {
      "needs_background": "light"
     },
     "output_type": "display_data"
    }
   ],
   "source": [
    "showAccAndLoss(history)"
   ]
  },
  {
   "cell_type": "code",
   "execution_count": 73,
   "id": "e0c0296a",
   "metadata": {},
   "outputs": [
    {
     "name": "stdout",
     "output_type": "stream",
     "text": [
      "Found 1000 images belonging to 2 classes.\n"
     ]
    }
   ],
   "source": [
    "# Model başarımının test verisiyle ölçümü\n",
    "test_generator = validation_datagen.flow_from_directory(\n",
    "    test_dir,\n",
    "    target_size=(150, 150),\n",
    "    batch_size=20,\n",
    "    class_mode='binary')"
   ]
  },
  {
   "cell_type": "code",
   "execution_count": 75,
   "id": "1265ac0a",
   "metadata": {},
   "outputs": [],
   "source": [
    "test_loss, test_acc = model.evaluate_generator(test_generator, steps=50)"
   ]
  },
  {
   "cell_type": "code",
   "execution_count": 76,
   "id": "c738072d",
   "metadata": {},
   "outputs": [
    {
     "name": "stdout",
     "output_type": "stream",
     "text": [
      "test acc:  0.9390000104904175\n"
     ]
    }
   ],
   "source": [
    "print('test acc: ', test_acc)"
   ]
  }
 ],
 "metadata": {
  "kernelspec": {
   "display_name": "Python [conda env:tf-gpu] *",
   "language": "python",
   "name": "conda-env-tf-gpu-py"
  },
  "language_info": {
   "codemirror_mode": {
    "name": "ipython",
    "version": 3
   },
   "file_extension": ".py",
   "mimetype": "text/x-python",
   "name": "python",
   "nbconvert_exporter": "python",
   "pygments_lexer": "ipython3",
   "version": "3.7.11"
  }
 },
 "nbformat": 4,
 "nbformat_minor": 5
}
